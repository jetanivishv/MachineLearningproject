{
 "cells": [
  {
   "cell_type": "code",
   "execution_count": 10,
   "id": "93cabde0",
   "metadata": {
    "scrolled": false
   },
   "outputs": [
    {
     "name": "stdout",
     "output_type": "stream",
     "text": [
      "[ 2.19570294  0.14671594 -0.34504094 ... -0.42700042 -0.26308146\n",
      " -0.34504094]\n",
      "[[-0.11049429 -0.14245424  0.21616757 -0.42857373]\n",
      " [-0.04262896  0.81964746  4.64223332  5.76584129]\n",
      " [-0.10765341 -0.08793514  0.21616757 -0.26338933]\n",
      " ...\n",
      " [-0.28241978  0.01362004  0.15662408 -0.09820493]\n",
      " [-0.30483112 -0.13390222 -0.0418542  -0.18079713]\n",
      " [-0.24159537 -0.12855721 -0.39911512 -0.34598153]]\n"
     ]
    },
    {
     "ename": "TypeError",
     "evalue": "SGDRegressor.__init__() got an unexpected keyword argument 'eta'",
     "output_type": "error",
     "traceback": [
      "\u001b[1;31m---------------------------------------------------------------------------\u001b[0m",
      "\u001b[1;31mTypeError\u001b[0m                                 Traceback (most recent call last)",
      "Input \u001b[1;32mIn [10]\u001b[0m, in \u001b[0;36m<cell line: 29>\u001b[1;34m()\u001b[0m\n\u001b[0;32m     26\u001b[0m \u001b[38;5;28mprint\u001b[39m(x)\n\u001b[0;32m     27\u001b[0m \u001b[38;5;28mprint\u001b[39m(y)\n\u001b[1;32m---> 29\u001b[0m sgd_reg \u001b[38;5;241m=\u001b[39m \u001b[43mSGDRegressor\u001b[49m\u001b[43m(\u001b[49m\u001b[43mmax_iter\u001b[49m\u001b[38;5;241;43m=\u001b[39;49m\u001b[38;5;241;43m1000\u001b[39;49m\u001b[43m,\u001b[49m\u001b[43meta\u001b[49m\u001b[38;5;241;43m=\u001b[39;49m\u001b[38;5;241;43m0.5\u001b[39;49m\u001b[43m)\u001b[49m\n\u001b[0;32m     30\u001b[0m sgd_reg\u001b[38;5;241m.\u001b[39mfit(x,y)\n",
      "\u001b[1;31mTypeError\u001b[0m: SGDRegressor.__init__() got an unexpected keyword argument 'eta'"
     ]
    }
   ],
   "source": [
    "import numpy as np\n",
    "import pandas as pd\n",
    "import matplotlib.pyplot as plt \n",
    "import statistics\n",
    "from sklearn.linear_model import SGDRegressor\n",
    "\n",
    "df=pd.read_csv('udemy_courses.csv');\n",
    "\n",
    "df=df.drop(columns=['course_id','course_title','published_timestamp','url','is_paid',\n",
    "'level','subject'])\n",
    "# print(df.isna().any());\n",
    "\n",
    "# normalization\n",
    "for column in df:\n",
    "    std = statistics.stdev(df[column])\n",
    "    mean = statistics.mean(df[column])\n",
    "    \n",
    "    df[column] = (df[column]-mean)/std;\n",
    "\n",
    "y=df.drop(['price'], axis = 1)\n",
    "x = df['price']\n",
    "\n",
    "x = np.array(x);\n",
    "y = np.array(y)\n",
    "\n",
    "print(x)\n",
    "print(y)\n",
    "\n",
    "sgd_reg = SGDRegressor(max_iter=1000,alpha=0.5)\n",
    "sgd_reg.fit(x,y)"
   ]
  },
  {
   "cell_type": "code",
   "execution_count": null,
   "id": "08106456",
   "metadata": {},
   "outputs": [],
   "source": []
  }
 ],
 "metadata": {
  "kernelspec": {
   "display_name": "Python 3 (ipykernel)",
   "language": "python",
   "name": "python3"
  },
  "language_info": {
   "codemirror_mode": {
    "name": "ipython",
    "version": 3
   },
   "file_extension": ".py",
   "mimetype": "text/x-python",
   "name": "python",
   "nbconvert_exporter": "python",
   "pygments_lexer": "ipython3",
   "version": "3.10.6"
  }
 },
 "nbformat": 4,
 "nbformat_minor": 5
}
