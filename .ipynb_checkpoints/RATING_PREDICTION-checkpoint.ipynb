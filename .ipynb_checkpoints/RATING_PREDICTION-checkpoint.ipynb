{
 "cells": [
  {
   "cell_type": "code",
   "execution_count": 10,
   "id": "4e1944c4",
   "metadata": {},
   "outputs": [],
   "source": [
    "import numpy as np\n",
    "import pandas as pd\n",
    "import plotly.express as px\n",
    "import datetime as dt\n",
    "\n",
    "from sklearn.preprocessing import StandardScaler\n",
    "from sklearn.model_selection import train_test_split\n",
    "\n",
    "import tensorflow as tf\n",
    "from tensorflow_addons.metrics import RSquare"
   ]
  },
  {
   "cell_type": "code",
   "execution_count": 11,
   "id": "3ebf1843",
   "metadata": {},
   "outputs": [
    {
     "data": {
      "text/html": [
       "<div>\n",
       "<style scoped>\n",
       "    .dataframe tbody tr th:only-of-type {\n",
       "        vertical-align: middle;\n",
       "    }\n",
       "\n",
       "    .dataframe tbody tr th {\n",
       "        vertical-align: top;\n",
       "    }\n",
       "\n",
       "    .dataframe thead th {\n",
       "        text-align: right;\n",
       "    }\n",
       "</style>\n",
       "<table border=\"1\" class=\"dataframe\">\n",
       "  <thead>\n",
       "    <tr style=\"text-align: right;\">\n",
       "      <th></th>\n",
       "      <th>course_id</th>\n",
       "      <th>course_title</th>\n",
       "      <th>url</th>\n",
       "      <th>price</th>\n",
       "      <th>num_subscribers</th>\n",
       "      <th>num_reviews</th>\n",
       "      <th>num_lectures</th>\n",
       "      <th>level</th>\n",
       "      <th>rating</th>\n",
       "      <th>content_duration</th>\n",
       "      <th>published_timestamp</th>\n",
       "      <th>subject</th>\n",
       "      <th>Date</th>\n",
       "      <th>Free/Paid</th>\n",
       "    </tr>\n",
       "  </thead>\n",
       "  <tbody>\n",
       "    <tr>\n",
       "      <th>0</th>\n",
       "      <td>41295</td>\n",
       "      <td>Learn HTML5 Programming From Scratch</td>\n",
       "      <td>https://www.udemy.com/learn-html5-programming-...</td>\n",
       "      <td>0</td>\n",
       "      <td>268923</td>\n",
       "      <td>8629</td>\n",
       "      <td>45</td>\n",
       "      <td>Beginner Level</td>\n",
       "      <td>0.82</td>\n",
       "      <td>10.5</td>\n",
       "      <td>2013-02-14T07:03:41Z</td>\n",
       "      <td>Web Development</td>\n",
       "      <td>2013-02-14</td>\n",
       "      <td>Free</td>\n",
       "    </tr>\n",
       "    <tr>\n",
       "      <th>1</th>\n",
       "      <td>59014</td>\n",
       "      <td>Coding for Entrepreneurs Basic</td>\n",
       "      <td>https://www.udemy.com/coding-for-entrepreneurs...</td>\n",
       "      <td>0</td>\n",
       "      <td>161029</td>\n",
       "      <td>279</td>\n",
       "      <td>27</td>\n",
       "      <td>Expert Level</td>\n",
       "      <td>0.69</td>\n",
       "      <td>3.5</td>\n",
       "      <td>2013-06-09T15:51:55Z</td>\n",
       "      <td>Web Development</td>\n",
       "      <td>2013-06-09</td>\n",
       "      <td>Free</td>\n",
       "    </tr>\n",
       "    <tr>\n",
       "      <th>2</th>\n",
       "      <td>625204</td>\n",
       "      <td>The Web Developer Bootcamp</td>\n",
       "      <td>https://www.udemy.com/the-web-developer-bootcamp/</td>\n",
       "      <td>200</td>\n",
       "      <td>121584</td>\n",
       "      <td>27445</td>\n",
       "      <td>342</td>\n",
       "      <td>Beginner Level</td>\n",
       "      <td>0.89</td>\n",
       "      <td>43.0</td>\n",
       "      <td>2015-11-02T21:13:27Z</td>\n",
       "      <td>Web Development</td>\n",
       "      <td>2015-11-02</td>\n",
       "      <td>Paid</td>\n",
       "    </tr>\n",
       "    <tr>\n",
       "      <th>3</th>\n",
       "      <td>173548</td>\n",
       "      <td>Build Your First Website in 1 Week with HTML5 ...</td>\n",
       "      <td>https://www.udemy.com/build-your-first-website...</td>\n",
       "      <td>0</td>\n",
       "      <td>120291</td>\n",
       "      <td>5924</td>\n",
       "      <td>30</td>\n",
       "      <td>All Levels</td>\n",
       "      <td>0.78</td>\n",
       "      <td>3.0</td>\n",
       "      <td>2014-04-08T16:21:30Z</td>\n",
       "      <td>Web Development</td>\n",
       "      <td>2014-04-08</td>\n",
       "      <td>Free</td>\n",
       "    </tr>\n",
       "    <tr>\n",
       "      <th>4</th>\n",
       "      <td>764164</td>\n",
       "      <td>The Complete Web Developer Course 2.0</td>\n",
       "      <td>https://www.udemy.com/the-complete-web-develop...</td>\n",
       "      <td>200</td>\n",
       "      <td>114512</td>\n",
       "      <td>22412</td>\n",
       "      <td>304</td>\n",
       "      <td>Beginner Level</td>\n",
       "      <td>0.55</td>\n",
       "      <td>30.5</td>\n",
       "      <td>2016-03-08T22:28:36Z</td>\n",
       "      <td>Web Development</td>\n",
       "      <td>2016-03-08</td>\n",
       "      <td>Paid</td>\n",
       "    </tr>\n",
       "  </tbody>\n",
       "</table>\n",
       "</div>"
      ],
      "text/plain": [
       "   course_id                                       course_title  \\\n",
       "0      41295               Learn HTML5 Programming From Scratch   \n",
       "1      59014                     Coding for Entrepreneurs Basic   \n",
       "2     625204                         The Web Developer Bootcamp   \n",
       "3     173548  Build Your First Website in 1 Week with HTML5 ...   \n",
       "4     764164              The Complete Web Developer Course 2.0   \n",
       "\n",
       "                                                 url  price  num_subscribers  \\\n",
       "0  https://www.udemy.com/learn-html5-programming-...      0           268923   \n",
       "1  https://www.udemy.com/coding-for-entrepreneurs...      0           161029   \n",
       "2  https://www.udemy.com/the-web-developer-bootcamp/    200           121584   \n",
       "3  https://www.udemy.com/build-your-first-website...      0           120291   \n",
       "4  https://www.udemy.com/the-complete-web-develop...    200           114512   \n",
       "\n",
       "   num_reviews  num_lectures           level  rating  content_duration  \\\n",
       "0         8629            45  Beginner Level    0.82              10.5   \n",
       "1          279            27    Expert Level    0.69               3.5   \n",
       "2        27445           342  Beginner Level    0.89              43.0   \n",
       "3         5924            30      All Levels    0.78               3.0   \n",
       "4        22412           304  Beginner Level    0.55              30.5   \n",
       "\n",
       "    published_timestamp          subject        Date Free/Paid  \n",
       "0  2013-02-14T07:03:41Z  Web Development  2013-02-14      Free  \n",
       "1  2013-06-09T15:51:55Z  Web Development  2013-06-09      Free  \n",
       "2  2015-11-02T21:13:27Z  Web Development  2015-11-02      Paid  \n",
       "3  2014-04-08T16:21:30Z  Web Development  2014-04-08      Free  \n",
       "4  2016-03-08T22:28:36Z  Web Development  2016-03-08      Paid  "
      ]
     },
     "execution_count": 11,
     "metadata": {},
     "output_type": "execute_result"
    }
   ],
   "source": [
    "train=pd.read_csv(\"udemy_courses.csv\")\n",
    "train.head()"
   ]
  },
  {
   "cell_type": "code",
   "execution_count": 12,
   "id": "b2a48a2f",
   "metadata": {},
   "outputs": [
    {
     "name": "stdout",
     "output_type": "stream",
     "text": [
      "The number of rows within the dataset are 3676 and the number of columns are 14\n",
      "<class 'pandas.core.frame.DataFrame'>\n",
      "RangeIndex: 3676 entries, 0 to 3675\n",
      "Data columns (total 14 columns):\n",
      " #   Column               Non-Null Count  Dtype  \n",
      "---  ------               --------------  -----  \n",
      " 0   course_id            3676 non-null   int64  \n",
      " 1   course_title         3676 non-null   object \n",
      " 2   url                  3676 non-null   object \n",
      " 3   price                3676 non-null   int64  \n",
      " 4   num_subscribers      3676 non-null   int64  \n",
      " 5   num_reviews          3676 non-null   int64  \n",
      " 6   num_lectures         3676 non-null   int64  \n",
      " 7   level                3676 non-null   object \n",
      " 8   rating               3676 non-null   float64\n",
      " 9   content_duration     3676 non-null   float64\n",
      " 10  published_timestamp  3676 non-null   object \n",
      " 11  subject              3676 non-null   object \n",
      " 12  Date                 3676 non-null   object \n",
      " 13  Free/Paid            3676 non-null   object \n",
      "dtypes: float64(2), int64(5), object(7)\n",
      "memory usage: 402.2+ KB\n"
     ]
    },
    {
     "data": {
      "text/html": [
       "<div>\n",
       "<style scoped>\n",
       "    .dataframe tbody tr th:only-of-type {\n",
       "        vertical-align: middle;\n",
       "    }\n",
       "\n",
       "    .dataframe tbody tr th {\n",
       "        vertical-align: top;\n",
       "    }\n",
       "\n",
       "    .dataframe thead th {\n",
       "        text-align: right;\n",
       "    }\n",
       "</style>\n",
       "<table border=\"1\" class=\"dataframe\">\n",
       "  <thead>\n",
       "    <tr style=\"text-align: right;\">\n",
       "      <th></th>\n",
       "      <th>course_id</th>\n",
       "      <th>course_title</th>\n",
       "      <th>url</th>\n",
       "      <th>price</th>\n",
       "      <th>num_subscribers</th>\n",
       "      <th>num_reviews</th>\n",
       "      <th>num_lectures</th>\n",
       "      <th>level</th>\n",
       "      <th>rating</th>\n",
       "      <th>content_duration</th>\n",
       "      <th>published_timestamp</th>\n",
       "      <th>subject</th>\n",
       "      <th>Date</th>\n",
       "      <th>Free/Paid</th>\n",
       "    </tr>\n",
       "  </thead>\n",
       "  <tbody>\n",
       "    <tr>\n",
       "      <th>0</th>\n",
       "      <td>41295</td>\n",
       "      <td>Learn HTML5 Programming From Scratch</td>\n",
       "      <td>https://www.udemy.com/learn-html5-programming-...</td>\n",
       "      <td>0</td>\n",
       "      <td>268923</td>\n",
       "      <td>8629</td>\n",
       "      <td>45</td>\n",
       "      <td>Beginner Level</td>\n",
       "      <td>0.82</td>\n",
       "      <td>10.5</td>\n",
       "      <td>2013-02-14T07:03:41Z</td>\n",
       "      <td>Web Development</td>\n",
       "      <td>2013-02-14</td>\n",
       "      <td>Free</td>\n",
       "    </tr>\n",
       "  </tbody>\n",
       "</table>\n",
       "</div>"
      ],
      "text/plain": [
       "   course_id                          course_title  \\\n",
       "0      41295  Learn HTML5 Programming From Scratch   \n",
       "\n",
       "                                                 url  price  num_subscribers  \\\n",
       "0  https://www.udemy.com/learn-html5-programming-...      0           268923   \n",
       "\n",
       "   num_reviews  num_lectures           level  rating  content_duration  \\\n",
       "0         8629            45  Beginner Level    0.82              10.5   \n",
       "\n",
       "    published_timestamp          subject        Date Free/Paid  \n",
       "0  2013-02-14T07:03:41Z  Web Development  2013-02-14      Free  "
      ]
     },
     "execution_count": 12,
     "metadata": {},
     "output_type": "execute_result"
    }
   ],
   "source": [
    "train.shape\n",
    "row=train.shape[0]\n",
    "col=train.shape[1]\n",
    "print(\"The number of rows within the dataset are {} and the number of columns are {}\".format(row,col))\n",
    "train.info()\n",
    "train.head(1)"
   ]
  },
  {
   "cell_type": "code",
   "execution_count": 13,
   "id": "153d3f7b",
   "metadata": {},
   "outputs": [
    {
     "data": {
      "text/plain": [
       "course_id              0\n",
       "course_title           0\n",
       "url                    0\n",
       "price                  0\n",
       "num_subscribers        0\n",
       "num_reviews            0\n",
       "num_lectures           0\n",
       "level                  0\n",
       "rating                 0\n",
       "content_duration       0\n",
       "published_timestamp    0\n",
       "subject                0\n",
       "Date                   0\n",
       "Free/Paid              0\n",
       "dtype: int64"
      ]
     },
     "execution_count": 13,
     "metadata": {},
     "output_type": "execute_result"
    }
   ],
   "source": [
    "train.isnull().sum()"
   ]
  },
  {
   "cell_type": "code",
   "execution_count": 14,
   "id": "1d99c324",
   "metadata": {},
   "outputs": [],
   "source": [
    "train=train.drop(['course_id','course_title','url'],axis=1)"
   ]
  },
  {
   "cell_type": "code",
   "execution_count": 15,
   "id": "db0f8845",
   "metadata": {},
   "outputs": [
    {
     "data": {
      "text/html": [
       "<div>\n",
       "<style scoped>\n",
       "    .dataframe tbody tr th:only-of-type {\n",
       "        vertical-align: middle;\n",
       "    }\n",
       "\n",
       "    .dataframe tbody tr th {\n",
       "        vertical-align: top;\n",
       "    }\n",
       "\n",
       "    .dataframe thead th {\n",
       "        text-align: right;\n",
       "    }\n",
       "</style>\n",
       "<table border=\"1\" class=\"dataframe\">\n",
       "  <thead>\n",
       "    <tr style=\"text-align: right;\">\n",
       "      <th></th>\n",
       "      <th>price</th>\n",
       "      <th>num_subscribers</th>\n",
       "      <th>num_reviews</th>\n",
       "      <th>num_lectures</th>\n",
       "      <th>level</th>\n",
       "      <th>rating</th>\n",
       "      <th>content_duration</th>\n",
       "      <th>published_timestamp</th>\n",
       "      <th>subject</th>\n",
       "      <th>Date</th>\n",
       "      <th>Free/Paid</th>\n",
       "    </tr>\n",
       "  </thead>\n",
       "  <tbody>\n",
       "    <tr>\n",
       "      <th>0</th>\n",
       "      <td>0</td>\n",
       "      <td>268923</td>\n",
       "      <td>8629</td>\n",
       "      <td>45</td>\n",
       "      <td>Beginner Level</td>\n",
       "      <td>0.82</td>\n",
       "      <td>10.5</td>\n",
       "      <td>2013-02-14T07:03:41Z</td>\n",
       "      <td>Web Development</td>\n",
       "      <td>2013-02-14</td>\n",
       "      <td>Free</td>\n",
       "    </tr>\n",
       "    <tr>\n",
       "      <th>1</th>\n",
       "      <td>0</td>\n",
       "      <td>161029</td>\n",
       "      <td>279</td>\n",
       "      <td>27</td>\n",
       "      <td>Expert Level</td>\n",
       "      <td>0.69</td>\n",
       "      <td>3.5</td>\n",
       "      <td>2013-06-09T15:51:55Z</td>\n",
       "      <td>Web Development</td>\n",
       "      <td>2013-06-09</td>\n",
       "      <td>Free</td>\n",
       "    </tr>\n",
       "    <tr>\n",
       "      <th>2</th>\n",
       "      <td>200</td>\n",
       "      <td>121584</td>\n",
       "      <td>27445</td>\n",
       "      <td>342</td>\n",
       "      <td>Beginner Level</td>\n",
       "      <td>0.89</td>\n",
       "      <td>43.0</td>\n",
       "      <td>2015-11-02T21:13:27Z</td>\n",
       "      <td>Web Development</td>\n",
       "      <td>2015-11-02</td>\n",
       "      <td>Paid</td>\n",
       "    </tr>\n",
       "    <tr>\n",
       "      <th>3</th>\n",
       "      <td>0</td>\n",
       "      <td>120291</td>\n",
       "      <td>5924</td>\n",
       "      <td>30</td>\n",
       "      <td>All Levels</td>\n",
       "      <td>0.78</td>\n",
       "      <td>3.0</td>\n",
       "      <td>2014-04-08T16:21:30Z</td>\n",
       "      <td>Web Development</td>\n",
       "      <td>2014-04-08</td>\n",
       "      <td>Free</td>\n",
       "    </tr>\n",
       "    <tr>\n",
       "      <th>4</th>\n",
       "      <td>200</td>\n",
       "      <td>114512</td>\n",
       "      <td>22412</td>\n",
       "      <td>304</td>\n",
       "      <td>Beginner Level</td>\n",
       "      <td>0.55</td>\n",
       "      <td>30.5</td>\n",
       "      <td>2016-03-08T22:28:36Z</td>\n",
       "      <td>Web Development</td>\n",
       "      <td>2016-03-08</td>\n",
       "      <td>Paid</td>\n",
       "    </tr>\n",
       "    <tr>\n",
       "      <th>...</th>\n",
       "      <td>...</td>\n",
       "      <td>...</td>\n",
       "      <td>...</td>\n",
       "      <td>...</td>\n",
       "      <td>...</td>\n",
       "      <td>...</td>\n",
       "      <td>...</td>\n",
       "      <td>...</td>\n",
       "      <td>...</td>\n",
       "      <td>...</td>\n",
       "      <td>...</td>\n",
       "    </tr>\n",
       "    <tr>\n",
       "      <th>3671</th>\n",
       "      <td>40</td>\n",
       "      <td>0</td>\n",
       "      <td>0</td>\n",
       "      <td>18</td>\n",
       "      <td>Beginner Level</td>\n",
       "      <td>0.95</td>\n",
       "      <td>2.0</td>\n",
       "      <td>2016-07-27T21:07:46Z</td>\n",
       "      <td>Business Finance</td>\n",
       "      <td>2016-07-27</td>\n",
       "      <td>Paid</td>\n",
       "    </tr>\n",
       "    <tr>\n",
       "      <th>3672</th>\n",
       "      <td>75</td>\n",
       "      <td>0</td>\n",
       "      <td>0</td>\n",
       "      <td>9</td>\n",
       "      <td>All Levels</td>\n",
       "      <td>0.95</td>\n",
       "      <td>2.5</td>\n",
       "      <td>2017-06-28T21:55:29Z</td>\n",
       "      <td>Business Finance</td>\n",
       "      <td>2017-06-28</td>\n",
       "      <td>Paid</td>\n",
       "    </tr>\n",
       "    <tr>\n",
       "      <th>3673</th>\n",
       "      <td>90</td>\n",
       "      <td>0</td>\n",
       "      <td>0</td>\n",
       "      <td>12</td>\n",
       "      <td>Intermediate Level</td>\n",
       "      <td>0.36</td>\n",
       "      <td>1.0</td>\n",
       "      <td>2017-02-08T22:15:56Z</td>\n",
       "      <td>Business Finance</td>\n",
       "      <td>2017-02-08</td>\n",
       "      <td>Paid</td>\n",
       "    </tr>\n",
       "    <tr>\n",
       "      <th>3674</th>\n",
       "      <td>50</td>\n",
       "      <td>0</td>\n",
       "      <td>0</td>\n",
       "      <td>9</td>\n",
       "      <td>All Levels</td>\n",
       "      <td>0.15</td>\n",
       "      <td>2.0</td>\n",
       "      <td>2017-06-29T23:20:10Z</td>\n",
       "      <td>Business Finance</td>\n",
       "      <td>2017-06-29</td>\n",
       "      <td>Paid</td>\n",
       "    </tr>\n",
       "    <tr>\n",
       "      <th>3675</th>\n",
       "      <td>50</td>\n",
       "      <td>0</td>\n",
       "      <td>0</td>\n",
       "      <td>10</td>\n",
       "      <td>All Levels</td>\n",
       "      <td>0.18</td>\n",
       "      <td>1.5</td>\n",
       "      <td>2017-06-28T16:05:51Z</td>\n",
       "      <td>Business Finance</td>\n",
       "      <td>2017-06-28</td>\n",
       "      <td>Paid</td>\n",
       "    </tr>\n",
       "  </tbody>\n",
       "</table>\n",
       "<p>3676 rows × 11 columns</p>\n",
       "</div>"
      ],
      "text/plain": [
       "      price  num_subscribers  num_reviews  num_lectures               level  \\\n",
       "0         0           268923         8629            45      Beginner Level   \n",
       "1         0           161029          279            27        Expert Level   \n",
       "2       200           121584        27445           342      Beginner Level   \n",
       "3         0           120291         5924            30          All Levels   \n",
       "4       200           114512        22412           304      Beginner Level   \n",
       "...     ...              ...          ...           ...                 ...   \n",
       "3671     40                0            0            18      Beginner Level   \n",
       "3672     75                0            0             9          All Levels   \n",
       "3673     90                0            0            12  Intermediate Level   \n",
       "3674     50                0            0             9          All Levels   \n",
       "3675     50                0            0            10          All Levels   \n",
       "\n",
       "      rating  content_duration   published_timestamp           subject  \\\n",
       "0       0.82              10.5  2013-02-14T07:03:41Z   Web Development   \n",
       "1       0.69               3.5  2013-06-09T15:51:55Z   Web Development   \n",
       "2       0.89              43.0  2015-11-02T21:13:27Z   Web Development   \n",
       "3       0.78               3.0  2014-04-08T16:21:30Z   Web Development   \n",
       "4       0.55              30.5  2016-03-08T22:28:36Z   Web Development   \n",
       "...      ...               ...                   ...               ...   \n",
       "3671    0.95               2.0  2016-07-27T21:07:46Z  Business Finance   \n",
       "3672    0.95               2.5  2017-06-28T21:55:29Z  Business Finance   \n",
       "3673    0.36               1.0  2017-02-08T22:15:56Z  Business Finance   \n",
       "3674    0.15               2.0  2017-06-29T23:20:10Z  Business Finance   \n",
       "3675    0.18               1.5  2017-06-28T16:05:51Z  Business Finance   \n",
       "\n",
       "            Date Free/Paid  \n",
       "0     2013-02-14      Free  \n",
       "1     2013-06-09      Free  \n",
       "2     2015-11-02      Paid  \n",
       "3     2014-04-08      Free  \n",
       "4     2016-03-08      Paid  \n",
       "...          ...       ...  \n",
       "3671  2016-07-27      Paid  \n",
       "3672  2017-06-28      Paid  \n",
       "3673  2017-02-08      Paid  \n",
       "3674  2017-06-29      Paid  \n",
       "3675  2017-06-28      Paid  \n",
       "\n",
       "[3676 rows x 11 columns]"
      ]
     },
     "execution_count": 15,
     "metadata": {},
     "output_type": "execute_result"
    }
   ],
   "source": [
    "train"
   ]
  },
  {
   "cell_type": "markdown",
   "id": "40875419",
   "metadata": {},
   "source": [
    "## feature engineering"
   ]
  },
  {
   "cell_type": "code",
   "execution_count": 16,
   "id": "b838cccb",
   "metadata": {},
   "outputs": [],
   "source": [
    "dates=[]\n",
    "for i in train['published_timestamp']:\n",
    "    dat=dt.datetime.strptime(i,'%Y-%m-%dT%H:%M:%SZ');\n",
    "    dates.append(dat)\n",
    "\n",
    "train['time']=dates\n",
    "train['year']=train['time'].dt.year"
   ]
  },
  {
   "cell_type": "code",
   "execution_count": 17,
   "id": "b1d1efe6",
   "metadata": {},
   "outputs": [],
   "source": [
    "train['year']\n",
    "train.rename(columns = {'Free/Paid':'is_Paid'}, inplace = True)"
   ]
  },
  {
   "cell_type": "code",
   "execution_count": 18,
   "id": "9d06ee90",
   "metadata": {},
   "outputs": [],
   "source": [
    "def conversion(val):\n",
    "    if val=='Paid':\n",
    "        return 1\n",
    "    else:\n",
    "        return 0\n",
    "\n",
    "train['is_Paid']=train['is_Paid'].apply(conversion)"
   ]
  },
  {
   "cell_type": "code",
   "execution_count": 19,
   "id": "b52f52a2",
   "metadata": {},
   "outputs": [
    {
     "data": {
      "text/html": [
       "<div>\n",
       "<style scoped>\n",
       "    .dataframe tbody tr th:only-of-type {\n",
       "        vertical-align: middle;\n",
       "    }\n",
       "\n",
       "    .dataframe tbody tr th {\n",
       "        vertical-align: top;\n",
       "    }\n",
       "\n",
       "    .dataframe thead th {\n",
       "        text-align: right;\n",
       "    }\n",
       "</style>\n",
       "<table border=\"1\" class=\"dataframe\">\n",
       "  <thead>\n",
       "    <tr style=\"text-align: right;\">\n",
       "      <th></th>\n",
       "      <th>price</th>\n",
       "      <th>num_subscribers</th>\n",
       "      <th>num_reviews</th>\n",
       "      <th>num_lectures</th>\n",
       "      <th>level</th>\n",
       "      <th>rating</th>\n",
       "      <th>content_duration</th>\n",
       "      <th>published_timestamp</th>\n",
       "      <th>subject</th>\n",
       "      <th>Date</th>\n",
       "      <th>is_Paid</th>\n",
       "      <th>time</th>\n",
       "      <th>year</th>\n",
       "    </tr>\n",
       "  </thead>\n",
       "  <tbody>\n",
       "    <tr>\n",
       "      <th>0</th>\n",
       "      <td>0</td>\n",
       "      <td>268923</td>\n",
       "      <td>8629</td>\n",
       "      <td>45</td>\n",
       "      <td>Beginner Level</td>\n",
       "      <td>0.82</td>\n",
       "      <td>10.5</td>\n",
       "      <td>2013-02-14T07:03:41Z</td>\n",
       "      <td>Web Development</td>\n",
       "      <td>2013-02-14</td>\n",
       "      <td>0</td>\n",
       "      <td>2013-02-14 07:03:41</td>\n",
       "      <td>2013</td>\n",
       "    </tr>\n",
       "    <tr>\n",
       "      <th>1</th>\n",
       "      <td>0</td>\n",
       "      <td>161029</td>\n",
       "      <td>279</td>\n",
       "      <td>27</td>\n",
       "      <td>Expert Level</td>\n",
       "      <td>0.69</td>\n",
       "      <td>3.5</td>\n",
       "      <td>2013-06-09T15:51:55Z</td>\n",
       "      <td>Web Development</td>\n",
       "      <td>2013-06-09</td>\n",
       "      <td>0</td>\n",
       "      <td>2013-06-09 15:51:55</td>\n",
       "      <td>2013</td>\n",
       "    </tr>\n",
       "    <tr>\n",
       "      <th>2</th>\n",
       "      <td>200</td>\n",
       "      <td>121584</td>\n",
       "      <td>27445</td>\n",
       "      <td>342</td>\n",
       "      <td>Beginner Level</td>\n",
       "      <td>0.89</td>\n",
       "      <td>43.0</td>\n",
       "      <td>2015-11-02T21:13:27Z</td>\n",
       "      <td>Web Development</td>\n",
       "      <td>2015-11-02</td>\n",
       "      <td>1</td>\n",
       "      <td>2015-11-02 21:13:27</td>\n",
       "      <td>2015</td>\n",
       "    </tr>\n",
       "    <tr>\n",
       "      <th>3</th>\n",
       "      <td>0</td>\n",
       "      <td>120291</td>\n",
       "      <td>5924</td>\n",
       "      <td>30</td>\n",
       "      <td>All Levels</td>\n",
       "      <td>0.78</td>\n",
       "      <td>3.0</td>\n",
       "      <td>2014-04-08T16:21:30Z</td>\n",
       "      <td>Web Development</td>\n",
       "      <td>2014-04-08</td>\n",
       "      <td>0</td>\n",
       "      <td>2014-04-08 16:21:30</td>\n",
       "      <td>2014</td>\n",
       "    </tr>\n",
       "    <tr>\n",
       "      <th>4</th>\n",
       "      <td>200</td>\n",
       "      <td>114512</td>\n",
       "      <td>22412</td>\n",
       "      <td>304</td>\n",
       "      <td>Beginner Level</td>\n",
       "      <td>0.55</td>\n",
       "      <td>30.5</td>\n",
       "      <td>2016-03-08T22:28:36Z</td>\n",
       "      <td>Web Development</td>\n",
       "      <td>2016-03-08</td>\n",
       "      <td>1</td>\n",
       "      <td>2016-03-08 22:28:36</td>\n",
       "      <td>2016</td>\n",
       "    </tr>\n",
       "    <tr>\n",
       "      <th>...</th>\n",
       "      <td>...</td>\n",
       "      <td>...</td>\n",
       "      <td>...</td>\n",
       "      <td>...</td>\n",
       "      <td>...</td>\n",
       "      <td>...</td>\n",
       "      <td>...</td>\n",
       "      <td>...</td>\n",
       "      <td>...</td>\n",
       "      <td>...</td>\n",
       "      <td>...</td>\n",
       "      <td>...</td>\n",
       "      <td>...</td>\n",
       "    </tr>\n",
       "    <tr>\n",
       "      <th>3671</th>\n",
       "      <td>40</td>\n",
       "      <td>0</td>\n",
       "      <td>0</td>\n",
       "      <td>18</td>\n",
       "      <td>Beginner Level</td>\n",
       "      <td>0.95</td>\n",
       "      <td>2.0</td>\n",
       "      <td>2016-07-27T21:07:46Z</td>\n",
       "      <td>Business Finance</td>\n",
       "      <td>2016-07-27</td>\n",
       "      <td>1</td>\n",
       "      <td>2016-07-27 21:07:46</td>\n",
       "      <td>2016</td>\n",
       "    </tr>\n",
       "    <tr>\n",
       "      <th>3672</th>\n",
       "      <td>75</td>\n",
       "      <td>0</td>\n",
       "      <td>0</td>\n",
       "      <td>9</td>\n",
       "      <td>All Levels</td>\n",
       "      <td>0.95</td>\n",
       "      <td>2.5</td>\n",
       "      <td>2017-06-28T21:55:29Z</td>\n",
       "      <td>Business Finance</td>\n",
       "      <td>2017-06-28</td>\n",
       "      <td>1</td>\n",
       "      <td>2017-06-28 21:55:29</td>\n",
       "      <td>2017</td>\n",
       "    </tr>\n",
       "    <tr>\n",
       "      <th>3673</th>\n",
       "      <td>90</td>\n",
       "      <td>0</td>\n",
       "      <td>0</td>\n",
       "      <td>12</td>\n",
       "      <td>Intermediate Level</td>\n",
       "      <td>0.36</td>\n",
       "      <td>1.0</td>\n",
       "      <td>2017-02-08T22:15:56Z</td>\n",
       "      <td>Business Finance</td>\n",
       "      <td>2017-02-08</td>\n",
       "      <td>1</td>\n",
       "      <td>2017-02-08 22:15:56</td>\n",
       "      <td>2017</td>\n",
       "    </tr>\n",
       "    <tr>\n",
       "      <th>3674</th>\n",
       "      <td>50</td>\n",
       "      <td>0</td>\n",
       "      <td>0</td>\n",
       "      <td>9</td>\n",
       "      <td>All Levels</td>\n",
       "      <td>0.15</td>\n",
       "      <td>2.0</td>\n",
       "      <td>2017-06-29T23:20:10Z</td>\n",
       "      <td>Business Finance</td>\n",
       "      <td>2017-06-29</td>\n",
       "      <td>1</td>\n",
       "      <td>2017-06-29 23:20:10</td>\n",
       "      <td>2017</td>\n",
       "    </tr>\n",
       "    <tr>\n",
       "      <th>3675</th>\n",
       "      <td>50</td>\n",
       "      <td>0</td>\n",
       "      <td>0</td>\n",
       "      <td>10</td>\n",
       "      <td>All Levels</td>\n",
       "      <td>0.18</td>\n",
       "      <td>1.5</td>\n",
       "      <td>2017-06-28T16:05:51Z</td>\n",
       "      <td>Business Finance</td>\n",
       "      <td>2017-06-28</td>\n",
       "      <td>1</td>\n",
       "      <td>2017-06-28 16:05:51</td>\n",
       "      <td>2017</td>\n",
       "    </tr>\n",
       "  </tbody>\n",
       "</table>\n",
       "<p>3676 rows × 13 columns</p>\n",
       "</div>"
      ],
      "text/plain": [
       "      price  num_subscribers  num_reviews  num_lectures               level  \\\n",
       "0         0           268923         8629            45      Beginner Level   \n",
       "1         0           161029          279            27        Expert Level   \n",
       "2       200           121584        27445           342      Beginner Level   \n",
       "3         0           120291         5924            30          All Levels   \n",
       "4       200           114512        22412           304      Beginner Level   \n",
       "...     ...              ...          ...           ...                 ...   \n",
       "3671     40                0            0            18      Beginner Level   \n",
       "3672     75                0            0             9          All Levels   \n",
       "3673     90                0            0            12  Intermediate Level   \n",
       "3674     50                0            0             9          All Levels   \n",
       "3675     50                0            0            10          All Levels   \n",
       "\n",
       "      rating  content_duration   published_timestamp           subject  \\\n",
       "0       0.82              10.5  2013-02-14T07:03:41Z   Web Development   \n",
       "1       0.69               3.5  2013-06-09T15:51:55Z   Web Development   \n",
       "2       0.89              43.0  2015-11-02T21:13:27Z   Web Development   \n",
       "3       0.78               3.0  2014-04-08T16:21:30Z   Web Development   \n",
       "4       0.55              30.5  2016-03-08T22:28:36Z   Web Development   \n",
       "...      ...               ...                   ...               ...   \n",
       "3671    0.95               2.0  2016-07-27T21:07:46Z  Business Finance   \n",
       "3672    0.95               2.5  2017-06-28T21:55:29Z  Business Finance   \n",
       "3673    0.36               1.0  2017-02-08T22:15:56Z  Business Finance   \n",
       "3674    0.15               2.0  2017-06-29T23:20:10Z  Business Finance   \n",
       "3675    0.18               1.5  2017-06-28T16:05:51Z  Business Finance   \n",
       "\n",
       "            Date  is_Paid                time  year  \n",
       "0     2013-02-14        0 2013-02-14 07:03:41  2013  \n",
       "1     2013-06-09        0 2013-06-09 15:51:55  2013  \n",
       "2     2015-11-02        1 2015-11-02 21:13:27  2015  \n",
       "3     2014-04-08        0 2014-04-08 16:21:30  2014  \n",
       "4     2016-03-08        1 2016-03-08 22:28:36  2016  \n",
       "...          ...      ...                 ...   ...  \n",
       "3671  2016-07-27        1 2016-07-27 21:07:46  2016  \n",
       "3672  2017-06-28        1 2017-06-28 21:55:29  2017  \n",
       "3673  2017-02-08        1 2017-02-08 22:15:56  2017  \n",
       "3674  2017-06-29        1 2017-06-29 23:20:10  2017  \n",
       "3675  2017-06-28        1 2017-06-28 16:05:51  2017  \n",
       "\n",
       "[3676 rows x 13 columns]"
      ]
     },
     "execution_count": 19,
     "metadata": {},
     "output_type": "execute_result"
    }
   ],
   "source": [
    "train"
   ]
  },
  {
   "cell_type": "code",
   "execution_count": 20,
   "id": "2736ad43",
   "metadata": {},
   "outputs": [],
   "source": [
    "x=train.drop(['rating','Date','time','published_timestamp','level','subject'],axis=1)\n",
    "y=train['rating']"
   ]
  },
  {
   "cell_type": "code",
   "execution_count": 21,
   "id": "ccf755ae",
   "metadata": {},
   "outputs": [
    {
     "data": {
      "text/html": [
       "<div>\n",
       "<style scoped>\n",
       "    .dataframe tbody tr th:only-of-type {\n",
       "        vertical-align: middle;\n",
       "    }\n",
       "\n",
       "    .dataframe tbody tr th {\n",
       "        vertical-align: top;\n",
       "    }\n",
       "\n",
       "    .dataframe thead th {\n",
       "        text-align: right;\n",
       "    }\n",
       "</style>\n",
       "<table border=\"1\" class=\"dataframe\">\n",
       "  <thead>\n",
       "    <tr style=\"text-align: right;\">\n",
       "      <th></th>\n",
       "      <th>price</th>\n",
       "      <th>num_subscribers</th>\n",
       "      <th>num_reviews</th>\n",
       "      <th>num_lectures</th>\n",
       "      <th>content_duration</th>\n",
       "      <th>is_Paid</th>\n",
       "      <th>year</th>\n",
       "    </tr>\n",
       "  </thead>\n",
       "  <tbody>\n",
       "    <tr>\n",
       "      <th>0</th>\n",
       "      <td>0</td>\n",
       "      <td>268923</td>\n",
       "      <td>8629</td>\n",
       "      <td>45</td>\n",
       "      <td>10.5</td>\n",
       "      <td>0</td>\n",
       "      <td>2013</td>\n",
       "    </tr>\n",
       "    <tr>\n",
       "      <th>1</th>\n",
       "      <td>0</td>\n",
       "      <td>161029</td>\n",
       "      <td>279</td>\n",
       "      <td>27</td>\n",
       "      <td>3.5</td>\n",
       "      <td>0</td>\n",
       "      <td>2013</td>\n",
       "    </tr>\n",
       "    <tr>\n",
       "      <th>2</th>\n",
       "      <td>200</td>\n",
       "      <td>121584</td>\n",
       "      <td>27445</td>\n",
       "      <td>342</td>\n",
       "      <td>43.0</td>\n",
       "      <td>1</td>\n",
       "      <td>2015</td>\n",
       "    </tr>\n",
       "    <tr>\n",
       "      <th>3</th>\n",
       "      <td>0</td>\n",
       "      <td>120291</td>\n",
       "      <td>5924</td>\n",
       "      <td>30</td>\n",
       "      <td>3.0</td>\n",
       "      <td>0</td>\n",
       "      <td>2014</td>\n",
       "    </tr>\n",
       "    <tr>\n",
       "      <th>4</th>\n",
       "      <td>200</td>\n",
       "      <td>114512</td>\n",
       "      <td>22412</td>\n",
       "      <td>304</td>\n",
       "      <td>30.5</td>\n",
       "      <td>1</td>\n",
       "      <td>2016</td>\n",
       "    </tr>\n",
       "    <tr>\n",
       "      <th>...</th>\n",
       "      <td>...</td>\n",
       "      <td>...</td>\n",
       "      <td>...</td>\n",
       "      <td>...</td>\n",
       "      <td>...</td>\n",
       "      <td>...</td>\n",
       "      <td>...</td>\n",
       "    </tr>\n",
       "    <tr>\n",
       "      <th>3671</th>\n",
       "      <td>40</td>\n",
       "      <td>0</td>\n",
       "      <td>0</td>\n",
       "      <td>18</td>\n",
       "      <td>2.0</td>\n",
       "      <td>1</td>\n",
       "      <td>2016</td>\n",
       "    </tr>\n",
       "    <tr>\n",
       "      <th>3672</th>\n",
       "      <td>75</td>\n",
       "      <td>0</td>\n",
       "      <td>0</td>\n",
       "      <td>9</td>\n",
       "      <td>2.5</td>\n",
       "      <td>1</td>\n",
       "      <td>2017</td>\n",
       "    </tr>\n",
       "    <tr>\n",
       "      <th>3673</th>\n",
       "      <td>90</td>\n",
       "      <td>0</td>\n",
       "      <td>0</td>\n",
       "      <td>12</td>\n",
       "      <td>1.0</td>\n",
       "      <td>1</td>\n",
       "      <td>2017</td>\n",
       "    </tr>\n",
       "    <tr>\n",
       "      <th>3674</th>\n",
       "      <td>50</td>\n",
       "      <td>0</td>\n",
       "      <td>0</td>\n",
       "      <td>9</td>\n",
       "      <td>2.0</td>\n",
       "      <td>1</td>\n",
       "      <td>2017</td>\n",
       "    </tr>\n",
       "    <tr>\n",
       "      <th>3675</th>\n",
       "      <td>50</td>\n",
       "      <td>0</td>\n",
       "      <td>0</td>\n",
       "      <td>10</td>\n",
       "      <td>1.5</td>\n",
       "      <td>1</td>\n",
       "      <td>2017</td>\n",
       "    </tr>\n",
       "  </tbody>\n",
       "</table>\n",
       "<p>3676 rows × 7 columns</p>\n",
       "</div>"
      ],
      "text/plain": [
       "      price  num_subscribers  num_reviews  num_lectures  content_duration  \\\n",
       "0         0           268923         8629            45              10.5   \n",
       "1         0           161029          279            27               3.5   \n",
       "2       200           121584        27445           342              43.0   \n",
       "3         0           120291         5924            30               3.0   \n",
       "4       200           114512        22412           304              30.5   \n",
       "...     ...              ...          ...           ...               ...   \n",
       "3671     40                0            0            18               2.0   \n",
       "3672     75                0            0             9               2.5   \n",
       "3673     90                0            0            12               1.0   \n",
       "3674     50                0            0             9               2.0   \n",
       "3675     50                0            0            10               1.5   \n",
       "\n",
       "      is_Paid  year  \n",
       "0           0  2013  \n",
       "1           0  2013  \n",
       "2           1  2015  \n",
       "3           0  2014  \n",
       "4           1  2016  \n",
       "...       ...   ...  \n",
       "3671        1  2016  \n",
       "3672        1  2017  \n",
       "3673        1  2017  \n",
       "3674        1  2017  \n",
       "3675        1  2017  \n",
       "\n",
       "[3676 rows x 7 columns]"
      ]
     },
     "execution_count": 21,
     "metadata": {},
     "output_type": "execute_result"
    }
   ],
   "source": [
    "x"
   ]
  },
  {
   "cell_type": "code",
   "execution_count": 22,
   "id": "1aa03e3b",
   "metadata": {},
   "outputs": [
    {
     "data": {
      "text/plain": [
       "0       0.82\n",
       "1       0.69\n",
       "2       0.89\n",
       "3       0.78\n",
       "4       0.55\n",
       "        ... \n",
       "3671    0.95\n",
       "3672    0.95\n",
       "3673    0.36\n",
       "3674    0.15\n",
       "3675    0.18\n",
       "Name: rating, Length: 3676, dtype: float64"
      ]
     },
     "execution_count": 22,
     "metadata": {},
     "output_type": "execute_result"
    }
   ],
   "source": [
    "y"
   ]
  },
  {
   "cell_type": "code",
   "execution_count": 23,
   "id": "d0901c64",
   "metadata": {},
   "outputs": [],
   "source": [
    "scaler=StandardScaler()\n",
    "x=scaler.fit_transform(x)"
   ]
  },
  {
   "cell_type": "code",
   "execution_count": 24,
   "id": "559a0b02",
   "metadata": {},
   "outputs": [
    {
     "data": {
      "text/html": [
       "<div>\n",
       "<style scoped>\n",
       "    .dataframe tbody tr th:only-of-type {\n",
       "        vertical-align: middle;\n",
       "    }\n",
       "\n",
       "    .dataframe tbody tr th {\n",
       "        vertical-align: top;\n",
       "    }\n",
       "\n",
       "    .dataframe thead th {\n",
       "        text-align: right;\n",
       "    }\n",
       "</style>\n",
       "<table border=\"1\" class=\"dataframe\">\n",
       "  <thead>\n",
       "    <tr style=\"text-align: right;\">\n",
       "      <th></th>\n",
       "      <th>0</th>\n",
       "      <th>1</th>\n",
       "      <th>2</th>\n",
       "      <th>3</th>\n",
       "      <th>4</th>\n",
       "      <th>5</th>\n",
       "      <th>6</th>\n",
       "    </tr>\n",
       "  </thead>\n",
       "  <tbody>\n",
       "    <tr>\n",
       "      <th>0</th>\n",
       "      <td>-1.083010</td>\n",
       "      <td>28.014290</td>\n",
       "      <td>9.056400</td>\n",
       "      <td>0.096648</td>\n",
       "      <td>1.057769</td>\n",
       "      <td>-3.289367</td>\n",
       "      <td>-2.051888</td>\n",
       "    </tr>\n",
       "    <tr>\n",
       "      <th>1</th>\n",
       "      <td>-1.083010</td>\n",
       "      <td>16.639417</td>\n",
       "      <td>0.131143</td>\n",
       "      <td>-0.260554</td>\n",
       "      <td>-0.098468</td>\n",
       "      <td>-3.289367</td>\n",
       "      <td>-2.051888</td>\n",
       "    </tr>\n",
       "    <tr>\n",
       "      <th>2</th>\n",
       "      <td>2.193113</td>\n",
       "      <td>12.480874</td>\n",
       "      <td>29.168693</td>\n",
       "      <td>5.990481</td>\n",
       "      <td>6.426010</td>\n",
       "      <td>0.304010</td>\n",
       "      <td>-0.363719</td>\n",
       "    </tr>\n",
       "    <tr>\n",
       "      <th>3</th>\n",
       "      <td>-1.083010</td>\n",
       "      <td>12.344557</td>\n",
       "      <td>6.165044</td>\n",
       "      <td>-0.201021</td>\n",
       "      <td>-0.181056</td>\n",
       "      <td>-3.289367</td>\n",
       "      <td>-1.207804</td>\n",
       "    </tr>\n",
       "    <tr>\n",
       "      <th>4</th>\n",
       "      <td>2.193113</td>\n",
       "      <td>11.735298</td>\n",
       "      <td>23.788954</td>\n",
       "      <td>5.236388</td>\n",
       "      <td>4.361302</td>\n",
       "      <td>0.304010</td>\n",
       "      <td>0.480366</td>\n",
       "    </tr>\n",
       "    <tr>\n",
       "      <th>...</th>\n",
       "      <td>...</td>\n",
       "      <td>...</td>\n",
       "      <td>...</td>\n",
       "      <td>...</td>\n",
       "      <td>...</td>\n",
       "      <td>...</td>\n",
       "      <td>...</td>\n",
       "    </tr>\n",
       "    <tr>\n",
       "      <th>3671</th>\n",
       "      <td>-0.427785</td>\n",
       "      <td>-0.337286</td>\n",
       "      <td>-0.167079</td>\n",
       "      <td>-0.439155</td>\n",
       "      <td>-0.346233</td>\n",
       "      <td>0.304010</td>\n",
       "      <td>0.480366</td>\n",
       "    </tr>\n",
       "    <tr>\n",
       "      <th>3672</th>\n",
       "      <td>0.145536</td>\n",
       "      <td>-0.337286</td>\n",
       "      <td>-0.167079</td>\n",
       "      <td>-0.617756</td>\n",
       "      <td>-0.263645</td>\n",
       "      <td>0.304010</td>\n",
       "      <td>1.324451</td>\n",
       "    </tr>\n",
       "    <tr>\n",
       "      <th>3673</th>\n",
       "      <td>0.391245</td>\n",
       "      <td>-0.337286</td>\n",
       "      <td>-0.167079</td>\n",
       "      <td>-0.558223</td>\n",
       "      <td>-0.511410</td>\n",
       "      <td>0.304010</td>\n",
       "      <td>1.324451</td>\n",
       "    </tr>\n",
       "    <tr>\n",
       "      <th>3674</th>\n",
       "      <td>-0.263979</td>\n",
       "      <td>-0.337286</td>\n",
       "      <td>-0.167079</td>\n",
       "      <td>-0.617756</td>\n",
       "      <td>-0.346233</td>\n",
       "      <td>0.304010</td>\n",
       "      <td>1.324451</td>\n",
       "    </tr>\n",
       "    <tr>\n",
       "      <th>3675</th>\n",
       "      <td>-0.263979</td>\n",
       "      <td>-0.337286</td>\n",
       "      <td>-0.167079</td>\n",
       "      <td>-0.597912</td>\n",
       "      <td>-0.428821</td>\n",
       "      <td>0.304010</td>\n",
       "      <td>1.324451</td>\n",
       "    </tr>\n",
       "  </tbody>\n",
       "</table>\n",
       "<p>3676 rows × 7 columns</p>\n",
       "</div>"
      ],
      "text/plain": [
       "             0          1          2         3         4         5         6\n",
       "0    -1.083010  28.014290   9.056400  0.096648  1.057769 -3.289367 -2.051888\n",
       "1    -1.083010  16.639417   0.131143 -0.260554 -0.098468 -3.289367 -2.051888\n",
       "2     2.193113  12.480874  29.168693  5.990481  6.426010  0.304010 -0.363719\n",
       "3    -1.083010  12.344557   6.165044 -0.201021 -0.181056 -3.289367 -1.207804\n",
       "4     2.193113  11.735298  23.788954  5.236388  4.361302  0.304010  0.480366\n",
       "...        ...        ...        ...       ...       ...       ...       ...\n",
       "3671 -0.427785  -0.337286  -0.167079 -0.439155 -0.346233  0.304010  0.480366\n",
       "3672  0.145536  -0.337286  -0.167079 -0.617756 -0.263645  0.304010  1.324451\n",
       "3673  0.391245  -0.337286  -0.167079 -0.558223 -0.511410  0.304010  1.324451\n",
       "3674 -0.263979  -0.337286  -0.167079 -0.617756 -0.346233  0.304010  1.324451\n",
       "3675 -0.263979  -0.337286  -0.167079 -0.597912 -0.428821  0.304010  1.324451\n",
       "\n",
       "[3676 rows x 7 columns]"
      ]
     },
     "execution_count": 24,
     "metadata": {},
     "output_type": "execute_result"
    }
   ],
   "source": [
    "pd.DataFrame(x)         "
   ]
  },
  {
   "cell_type": "code",
   "execution_count": 25,
   "id": "a0a44f2e",
   "metadata": {},
   "outputs": [],
   "source": [
    "x_train, x_test, y_train, y_test = train_test_split(x, y, test_size=0.30, random_state=32)"
   ]
  },
  {
   "cell_type": "code",
   "execution_count": 40,
   "id": "f0f8990b",
   "metadata": {
    "scrolled": true
   },
   "outputs": [
    {
     "name": "stdout",
     "output_type": "stream",
     "text": [
      "Epoch 1/100\n",
      "71/71 [==============================] - 1s 6ms/step - loss: 0.1926 - val_loss: 0.1323 - lr: 0.0010\n",
      "Epoch 2/100\n",
      "71/71 [==============================] - 0s 3ms/step - loss: 0.1300 - val_loss: 0.1226 - lr: 0.0010\n",
      "Epoch 3/100\n",
      "71/71 [==============================] - 0s 3ms/step - loss: 0.1217 - val_loss: 0.1195 - lr: 0.0010\n",
      "Epoch 4/100\n",
      "71/71 [==============================] - 0s 3ms/step - loss: 0.1176 - val_loss: 0.1173 - lr: 0.0010\n",
      "Epoch 5/100\n",
      "71/71 [==============================] - 0s 3ms/step - loss: 0.1172 - val_loss: 0.1158 - lr: 0.0010\n",
      "Epoch 6/100\n",
      "71/71 [==============================] - 0s 3ms/step - loss: 0.1157 - val_loss: 0.1129 - lr: 0.0010\n",
      "Epoch 7/100\n",
      "71/71 [==============================] - 0s 2ms/step - loss: 0.1144 - val_loss: 0.1187 - lr: 0.0010\n",
      "Epoch 8/100\n",
      "71/71 [==============================] - 0s 2ms/step - loss: 0.1145 - val_loss: 0.1118 - lr: 0.0010\n",
      "Epoch 9/100\n",
      "71/71 [==============================] - 0s 4ms/step - loss: 0.1127 - val_loss: 0.1119 - lr: 0.0010\n",
      "Epoch 10/100\n",
      "71/71 [==============================] - 0s 3ms/step - loss: 0.1115 - val_loss: 0.1101 - lr: 0.0010\n",
      "Epoch 11/100\n",
      "71/71 [==============================] - 0s 3ms/step - loss: 0.1102 - val_loss: 0.1089 - lr: 0.0010\n",
      "Epoch 12/100\n",
      "71/71 [==============================] - 0s 3ms/step - loss: 0.1102 - val_loss: 0.1115 - lr: 0.0010\n",
      "Epoch 13/100\n",
      "71/71 [==============================] - 0s 3ms/step - loss: 0.1098 - val_loss: 0.1112 - lr: 0.0010\n",
      "Epoch 14/100\n",
      "71/71 [==============================] - 0s 3ms/step - loss: 0.1101 - val_loss: 0.1080 - lr: 0.0010\n",
      "Epoch 15/100\n",
      "71/71 [==============================] - 0s 4ms/step - loss: 0.1106 - val_loss: 0.1116 - lr: 0.0010\n",
      "Epoch 16/100\n",
      "71/71 [==============================] - 0s 3ms/step - loss: 0.1091 - val_loss: 0.1079 - lr: 0.0010\n",
      "Epoch 17/100\n",
      "71/71 [==============================] - 0s 3ms/step - loss: 0.1079 - val_loss: 0.1099 - lr: 0.0010\n",
      "Epoch 18/100\n",
      "71/71 [==============================] - 0s 4ms/step - loss: 0.1081 - val_loss: 0.1120 - lr: 0.0010\n",
      "Epoch 19/100\n",
      "71/71 [==============================] - 0s 3ms/step - loss: 0.1084 - val_loss: 0.1087 - lr: 0.0010\n",
      "Epoch 20/100\n",
      "71/71 [==============================] - 0s 3ms/step - loss: 0.1081 - val_loss: 0.1084 - lr: 0.0010\n",
      "Epoch 21/100\n",
      "71/71 [==============================] - 0s 3ms/step - loss: 0.1068 - val_loss: 0.1098 - lr: 0.0010\n",
      "Epoch 22/100\n",
      "71/71 [==============================] - 0s 3ms/step - loss: 0.1074 - val_loss: 0.1089 - lr: 0.0010\n",
      "Epoch 23/100\n",
      "71/71 [==============================] - 0s 4ms/step - loss: 0.1075 - val_loss: 0.1096 - lr: 0.0010\n",
      "Epoch 24/100\n",
      "71/71 [==============================] - 0s 3ms/step - loss: 0.1073 - val_loss: 0.1093 - lr: 0.0010\n",
      "Epoch 25/100\n",
      "71/71 [==============================] - 0s 3ms/step - loss: 0.1077 - val_loss: 0.1092 - lr: 0.0010\n",
      "Epoch 26/100\n",
      "71/71 [==============================] - 0s 4ms/step - loss: 0.1065 - val_loss: 0.1102 - lr: 0.0010\n",
      "Epoch 27/100\n",
      "71/71 [==============================] - 0s 3ms/step - loss: 0.1052 - val_loss: 0.1082 - lr: 1.0000e-04\n",
      "Epoch 28/100\n",
      "71/71 [==============================] - 0s 3ms/step - loss: 0.1041 - val_loss: 0.1082 - lr: 1.0000e-04\n",
      "Epoch 29/100\n",
      "71/71 [==============================] - 0s 3ms/step - loss: 0.1040 - val_loss: 0.1084 - lr: 1.0000e-04\n",
      "Epoch 30/100\n",
      "71/71 [==============================] - 0s 3ms/step - loss: 0.1040 - val_loss: 0.1083 - lr: 1.0000e-04\n",
      "Epoch 31/100\n",
      "71/71 [==============================] - 0s 2ms/step - loss: 0.1039 - val_loss: 0.1083 - lr: 1.0000e-04\n",
      "Epoch 32/100\n",
      "71/71 [==============================] - 0s 3ms/step - loss: 0.1039 - val_loss: 0.1083 - lr: 1.0000e-04\n",
      "Epoch 33/100\n",
      "71/71 [==============================] - 0s 2ms/step - loss: 0.1039 - val_loss: 0.1083 - lr: 1.0000e-04\n",
      "Epoch 34/100\n",
      "71/71 [==============================] - 0s 3ms/step - loss: 0.1039 - val_loss: 0.1082 - lr: 1.0000e-04\n",
      "Epoch 35/100\n",
      "71/71 [==============================] - 0s 3ms/step - loss: 0.1039 - val_loss: 0.1083 - lr: 1.0000e-04\n",
      "Epoch 36/100\n",
      "71/71 [==============================] - 0s 3ms/step - loss: 0.1038 - val_loss: 0.1085 - lr: 1.0000e-04\n",
      "Epoch 37/100\n",
      "71/71 [==============================] - 0s 3ms/step - loss: 0.1035 - val_loss: 0.1084 - lr: 1.0000e-05\n",
      "Epoch 38/100\n",
      "71/71 [==============================] - 0s 3ms/step - loss: 0.1035 - val_loss: 0.1084 - lr: 1.0000e-05\n",
      "Epoch 39/100\n",
      "71/71 [==============================] - 0s 3ms/step - loss: 0.1035 - val_loss: 0.1084 - lr: 1.0000e-05\n",
      "Epoch 40/100\n",
      "71/71 [==============================] - 0s 3ms/step - loss: 0.1035 - val_loss: 0.1084 - lr: 1.0000e-05\n",
      "Epoch 41/100\n",
      "71/71 [==============================] - 0s 4ms/step - loss: 0.1035 - val_loss: 0.1084 - lr: 1.0000e-05\n",
      "Epoch 42/100\n",
      "71/71 [==============================] - 0s 3ms/step - loss: 0.1035 - val_loss: 0.1084 - lr: 1.0000e-05\n",
      "Epoch 43/100\n",
      "71/71 [==============================] - 0s 3ms/step - loss: 0.1035 - val_loss: 0.1084 - lr: 1.0000e-05\n",
      "Epoch 44/100\n",
      "71/71 [==============================] - 0s 3ms/step - loss: 0.1035 - val_loss: 0.1084 - lr: 1.0000e-05\n",
      "Epoch 45/100\n",
      "71/71 [==============================] - 0s 3ms/step - loss: 0.1035 - val_loss: 0.1084 - lr: 1.0000e-05\n",
      "Epoch 46/100\n",
      "71/71 [==============================] - 0s 3ms/step - loss: 0.1035 - val_loss: 0.1084 - lr: 1.0000e-05\n",
      "Epoch 47/100\n",
      "71/71 [==============================] - 0s 3ms/step - loss: 0.1034 - val_loss: 0.1084 - lr: 1.0000e-06\n",
      "Epoch 48/100\n",
      "71/71 [==============================] - 0s 3ms/step - loss: 0.1034 - val_loss: 0.1084 - lr: 1.0000e-06\n",
      "Epoch 49/100\n",
      "71/71 [==============================] - 0s 3ms/step - loss: 0.1034 - val_loss: 0.1084 - lr: 1.0000e-06\n",
      "Epoch 50/100\n",
      "71/71 [==============================] - 0s 5ms/step - loss: 0.1034 - val_loss: 0.1084 - lr: 1.0000e-06\n",
      "Epoch 51/100\n",
      "71/71 [==============================] - 0s 4ms/step - loss: 0.1034 - val_loss: 0.1084 - lr: 1.0000e-06\n",
      "Epoch 52/100\n",
      "71/71 [==============================] - 0s 3ms/step - loss: 0.1034 - val_loss: 0.1084 - lr: 1.0000e-06\n",
      "Epoch 53/100\n",
      "71/71 [==============================] - 0s 3ms/step - loss: 0.1034 - val_loss: 0.1084 - lr: 1.0000e-06\n",
      "Epoch 54/100\n",
      "71/71 [==============================] - 0s 3ms/step - loss: 0.1034 - val_loss: 0.1084 - lr: 1.0000e-06\n",
      "Epoch 55/100\n",
      "71/71 [==============================] - 0s 3ms/step - loss: 0.1034 - val_loss: 0.1084 - lr: 1.0000e-06\n",
      "Epoch 56/100\n",
      "71/71 [==============================] - 0s 4ms/step - loss: 0.1034 - val_loss: 0.1084 - lr: 1.0000e-06\n",
      "Epoch 57/100\n",
      "71/71 [==============================] - 0s 3ms/step - loss: 0.1034 - val_loss: 0.1084 - lr: 1.0000e-07\n",
      "Epoch 58/100\n",
      "71/71 [==============================] - 0s 4ms/step - loss: 0.1034 - val_loss: 0.1084 - lr: 1.0000e-07\n",
      "Epoch 59/100\n",
      "71/71 [==============================] - 0s 3ms/step - loss: 0.1034 - val_loss: 0.1084 - lr: 1.0000e-07\n",
      "Epoch 60/100\n",
      "71/71 [==============================] - 0s 3ms/step - loss: 0.1034 - val_loss: 0.1084 - lr: 1.0000e-07\n",
      "Epoch 61/100\n",
      "71/71 [==============================] - 0s 3ms/step - loss: 0.1034 - val_loss: 0.1084 - lr: 1.0000e-07\n",
      "Epoch 62/100\n",
      "71/71 [==============================] - 0s 3ms/step - loss: 0.1034 - val_loss: 0.1084 - lr: 1.0000e-07\n",
      "Epoch 63/100\n",
      "71/71 [==============================] - 0s 3ms/step - loss: 0.1034 - val_loss: 0.1084 - lr: 1.0000e-07\n",
      "Epoch 64/100\n",
      "71/71 [==============================] - 0s 4ms/step - loss: 0.1034 - val_loss: 0.1084 - lr: 1.0000e-07\n",
      "Epoch 65/100\n",
      "71/71 [==============================] - 0s 3ms/step - loss: 0.1034 - val_loss: 0.1084 - lr: 1.0000e-07\n",
      "Epoch 66/100\n",
      "71/71 [==============================] - 0s 3ms/step - loss: 0.1034 - val_loss: 0.1084 - lr: 1.0000e-07\n",
      "Epoch 67/100\n",
      "71/71 [==============================] - 0s 3ms/step - loss: 0.1034 - val_loss: 0.1084 - lr: 1.0000e-08\n",
      "Epoch 68/100\n",
      "71/71 [==============================] - 0s 3ms/step - loss: 0.1034 - val_loss: 0.1084 - lr: 1.0000e-08\n",
      "Epoch 69/100\n",
      "71/71 [==============================] - 0s 3ms/step - loss: 0.1034 - val_loss: 0.1084 - lr: 1.0000e-08\n",
      "Epoch 70/100\n",
      "71/71 [==============================] - 0s 3ms/step - loss: 0.1034 - val_loss: 0.1084 - lr: 1.0000e-08\n",
      "Epoch 71/100\n",
      "71/71 [==============================] - 0s 3ms/step - loss: 0.1034 - val_loss: 0.1084 - lr: 1.0000e-08\n"
     ]
    },
    {
     "name": "stdout",
     "output_type": "stream",
     "text": [
      "Epoch 72/100\n",
      "71/71 [==============================] - 0s 3ms/step - loss: 0.1034 - val_loss: 0.1084 - lr: 1.0000e-08\n",
      "Epoch 73/100\n",
      "71/71 [==============================] - 0s 3ms/step - loss: 0.1034 - val_loss: 0.1084 - lr: 1.0000e-08\n",
      "Epoch 74/100\n",
      "71/71 [==============================] - 0s 3ms/step - loss: 0.1034 - val_loss: 0.1084 - lr: 1.0000e-08\n",
      "Epoch 75/100\n",
      "71/71 [==============================] - 0s 3ms/step - loss: 0.1034 - val_loss: 0.1084 - lr: 1.0000e-08\n",
      "Epoch 76/100\n",
      "71/71 [==============================] - 0s 3ms/step - loss: 0.1034 - val_loss: 0.1084 - lr: 1.0000e-08\n",
      "Epoch 77/100\n",
      "71/71 [==============================] - 0s 4ms/step - loss: 0.1034 - val_loss: 0.1084 - lr: 1.0000e-09\n",
      "Epoch 78/100\n",
      "71/71 [==============================] - 0s 3ms/step - loss: 0.1034 - val_loss: 0.1084 - lr: 1.0000e-09\n",
      "Epoch 79/100\n",
      "71/71 [==============================] - 0s 3ms/step - loss: 0.1034 - val_loss: 0.1084 - lr: 1.0000e-09\n",
      "Epoch 80/100\n",
      "71/71 [==============================] - 0s 4ms/step - loss: 0.1034 - val_loss: 0.1084 - lr: 1.0000e-09\n",
      "Epoch 81/100\n",
      "71/71 [==============================] - 0s 3ms/step - loss: 0.1034 - val_loss: 0.1084 - lr: 1.0000e-09\n",
      "Epoch 82/100\n",
      "71/71 [==============================] - 0s 3ms/step - loss: 0.1034 - val_loss: 0.1084 - lr: 1.0000e-09\n",
      "Epoch 83/100\n",
      "71/71 [==============================] - 0s 3ms/step - loss: 0.1034 - val_loss: 0.1084 - lr: 1.0000e-09\n",
      "Epoch 84/100\n",
      "71/71 [==============================] - 0s 3ms/step - loss: 0.1034 - val_loss: 0.1084 - lr: 1.0000e-09\n",
      "Epoch 85/100\n",
      "71/71 [==============================] - 0s 3ms/step - loss: 0.1034 - val_loss: 0.1084 - lr: 1.0000e-09\n",
      "Epoch 86/100\n",
      "71/71 [==============================] - 0s 3ms/step - loss: 0.1034 - val_loss: 0.1084 - lr: 1.0000e-09\n",
      "Epoch 87/100\n",
      "71/71 [==============================] - 0s 3ms/step - loss: 0.1034 - val_loss: 0.1084 - lr: 1.0000e-10\n",
      "Epoch 88/100\n",
      "71/71 [==============================] - 0s 3ms/step - loss: 0.1034 - val_loss: 0.1084 - lr: 1.0000e-10\n",
      "Epoch 89/100\n",
      "71/71 [==============================] - 0s 3ms/step - loss: 0.1034 - val_loss: 0.1084 - lr: 1.0000e-10\n",
      "Epoch 90/100\n",
      "71/71 [==============================] - 0s 3ms/step - loss: 0.1034 - val_loss: 0.1084 - lr: 1.0000e-10\n",
      "Epoch 91/100\n",
      "71/71 [==============================] - 0s 3ms/step - loss: 0.1034 - val_loss: 0.1084 - lr: 1.0000e-10\n",
      "Epoch 92/100\n",
      "71/71 [==============================] - 0s 3ms/step - loss: 0.1034 - val_loss: 0.1084 - lr: 1.0000e-10\n",
      "Epoch 93/100\n",
      "71/71 [==============================] - 0s 3ms/step - loss: 0.1034 - val_loss: 0.1084 - lr: 1.0000e-10\n",
      "Epoch 94/100\n",
      "71/71 [==============================] - 0s 4ms/step - loss: 0.1034 - val_loss: 0.1084 - lr: 1.0000e-10\n",
      "Epoch 95/100\n",
      "71/71 [==============================] - 0s 3ms/step - loss: 0.1034 - val_loss: 0.1084 - lr: 1.0000e-10\n",
      "Epoch 96/100\n",
      "71/71 [==============================] - 0s 3ms/step - loss: 0.1034 - val_loss: 0.1084 - lr: 1.0000e-10\n",
      "Epoch 97/100\n",
      "71/71 [==============================] - 0s 3ms/step - loss: 0.1034 - val_loss: 0.1084 - lr: 1.0000e-11\n",
      "Epoch 98/100\n",
      "71/71 [==============================] - 0s 3ms/step - loss: 0.1034 - val_loss: 0.1084 - lr: 1.0000e-11\n",
      "Epoch 99/100\n",
      "71/71 [==============================] - 0s 4ms/step - loss: 0.1034 - val_loss: 0.1084 - lr: 1.0000e-11\n",
      "Epoch 100/100\n",
      "71/71 [==============================] - 0s 3ms/step - loss: 0.1034 - val_loss: 0.1084 - lr: 1.0000e-11\n"
     ]
    }
   ],
   "source": [
    "inputs=tf.keras.Input(shape=(7,))\n",
    "x=tf.keras.layers.Dense(32,activation='relu')(inputs)\n",
    "x=tf.keras.layers.Dense(32,activation='relu')(x)\n",
    "outputs=tf.keras.layers.Dense(1,activation=\"linear\")(x)\n",
    "model=tf.keras.Model(inputs,outputs)   \n",
    "\n",
    "model.compile(\n",
    "    optimizer='adam',\n",
    "    loss='mse'\n",
    ")\n",
    "\n",
    "batch_size=32\n",
    "epochs=100\n",
    "\n",
    "history=model.fit(x_train,y_train,validation_split=0.12,batch_size=batch_size,epochs=epochs,callbacks=[tf.keras.callbacks.ReduceLROnPlateau()])"
   ]
  },
  {
   "cell_type": "code",
   "execution_count": 41,
   "id": "ea25eb68",
   "metadata": {},
   "outputs": [
    {
     "data": {
      "application/vnd.plotly.v1+json": {
       "config": {
        "plotlyServerURL": "https://plot.ly"
       },
       "data": [
        {
         "hovertemplate": "variable=loss<br>index=%{x}<br>value=%{y}<extra></extra>",
         "legendgroup": "loss",
         "line": {
          "color": "#636efa",
          "dash": "solid"
         },
         "marker": {
          "symbol": "circle"
         },
         "mode": "lines",
         "name": "loss",
         "orientation": "v",
         "showlegend": true,
         "type": "scatter",
         "x": [
          0,
          1,
          2,
          3,
          4,
          5,
          6,
          7,
          8,
          9,
          10,
          11,
          12,
          13,
          14,
          15,
          16,
          17,
          18,
          19,
          20,
          21,
          22,
          23,
          24,
          25,
          26,
          27,
          28,
          29,
          30,
          31,
          32,
          33,
          34,
          35,
          36,
          37,
          38,
          39,
          40,
          41,
          42,
          43,
          44,
          45,
          46,
          47,
          48,
          49,
          50,
          51,
          52,
          53,
          54,
          55,
          56,
          57,
          58,
          59,
          60,
          61,
          62,
          63,
          64,
          65,
          66,
          67,
          68,
          69,
          70,
          71,
          72,
          73,
          74,
          75,
          76,
          77,
          78,
          79,
          80,
          81,
          82,
          83,
          84,
          85,
          86,
          87,
          88,
          89,
          90,
          91,
          92,
          93,
          94,
          95,
          96,
          97,
          98,
          99
         ],
         "xaxis": "x",
         "y": [
          0.1926029920578003,
          0.12998473644256592,
          0.12174862623214722,
          0.11761151254177094,
          0.1172032281756401,
          0.1157180443406105,
          0.11440528929233551,
          0.11445239186286926,
          0.11271567642688751,
          0.11148252338171005,
          0.11020095646381378,
          0.11017581075429916,
          0.10984279960393906,
          0.11009237170219421,
          0.11058630049228668,
          0.10914971679449081,
          0.10786879807710648,
          0.10809344798326492,
          0.1083604097366333,
          0.10813956707715988,
          0.10677581280469894,
          0.10744621604681015,
          0.10746004432439804,
          0.10729008913040161,
          0.10774341970682144,
          0.1064896434545517,
          0.10519994795322418,
          0.10410532355308533,
          0.10403922945261002,
          0.1039697602391243,
          0.10390885174274445,
          0.10389839857816696,
          0.10388994216918945,
          0.10391224920749664,
          0.10387289524078369,
          0.1038079485297203,
          0.10351970791816711,
          0.10351383686065674,
          0.1035141721367836,
          0.10351401567459106,
          0.10349935293197632,
          0.10348820686340332,
          0.10348936170339584,
          0.10347951203584671,
          0.1034921407699585,
          0.10349810123443604,
          0.1034441590309143,
          0.10344435274600983,
          0.10344436764717102,
          0.10344397276639938,
          0.1034451574087143,
          0.10344403982162476,
          0.10344436764717102,
          0.10344287008047104,
          0.10344263911247253,
          0.10344254225492477,
          0.1034386157989502,
          0.1034386157989502,
          0.10343868285417557,
          0.10343847423791885,
          0.10343849658966064,
          0.10343858599662781,
          0.10343849658966064,
          0.10343851149082184,
          0.10343854874372482,
          0.10343845933675766,
          0.10343804210424423,
          0.10343801230192184,
          0.10343804955482483,
          0.10343804210424423,
          0.10343803465366364,
          0.10343802720308304,
          0.10343801230192184,
          0.10343803465366364,
          0.10343803465366364,
          0.10343804210424423,
          0.10343801975250244,
          0.10343801975250244,
          0.10343801230192184,
          0.10343799740076065,
          0.10343801975250244,
          0.10343801975250244,
          0.10343801230192184,
          0.10343802720308304,
          0.10343798249959946,
          0.10343801230192184,
          0.10343801975250244,
          0.10343801230192184,
          0.10343801230192184,
          0.10343803465366364,
          0.10343801975250244,
          0.10343801230192184,
          0.10343802720308304,
          0.10343801230192184,
          0.10343802720308304,
          0.10343800485134125,
          0.10343802720308304,
          0.10343801975250244,
          0.10343800485134125,
          0.10343800485134125
         ],
         "yaxis": "y"
        },
        {
         "hovertemplate": "variable=val_loss<br>index=%{x}<br>value=%{y}<extra></extra>",
         "legendgroup": "val_loss",
         "line": {
          "color": "#EF553B",
          "dash": "solid"
         },
         "marker": {
          "symbol": "circle"
         },
         "mode": "lines",
         "name": "val_loss",
         "orientation": "v",
         "showlegend": true,
         "type": "scatter",
         "x": [
          0,
          1,
          2,
          3,
          4,
          5,
          6,
          7,
          8,
          9,
          10,
          11,
          12,
          13,
          14,
          15,
          16,
          17,
          18,
          19,
          20,
          21,
          22,
          23,
          24,
          25,
          26,
          27,
          28,
          29,
          30,
          31,
          32,
          33,
          34,
          35,
          36,
          37,
          38,
          39,
          40,
          41,
          42,
          43,
          44,
          45,
          46,
          47,
          48,
          49,
          50,
          51,
          52,
          53,
          54,
          55,
          56,
          57,
          58,
          59,
          60,
          61,
          62,
          63,
          64,
          65,
          66,
          67,
          68,
          69,
          70,
          71,
          72,
          73,
          74,
          75,
          76,
          77,
          78,
          79,
          80,
          81,
          82,
          83,
          84,
          85,
          86,
          87,
          88,
          89,
          90,
          91,
          92,
          93,
          94,
          95,
          96,
          97,
          98,
          99
         ],
         "xaxis": "x",
         "y": [
          0.13225054740905762,
          0.12262701243162155,
          0.1194654181599617,
          0.11726468056440353,
          0.11583719402551651,
          0.11287296563386917,
          0.11873852461576462,
          0.1118214949965477,
          0.11188039183616638,
          0.11012934893369675,
          0.10888664424419403,
          0.11153280735015869,
          0.11117363721132278,
          0.10799268633127213,
          0.11162877082824707,
          0.10785357654094696,
          0.109865702688694,
          0.11197160929441452,
          0.10868819057941437,
          0.1083715632557869,
          0.10980335623025894,
          0.10893311351537704,
          0.10957282036542892,
          0.10933751612901688,
          0.10919685661792755,
          0.11020656675100327,
          0.10819017142057419,
          0.10819456726312637,
          0.10838483273983002,
          0.10833676159381866,
          0.10831647366285324,
          0.10833144932985306,
          0.10832274705171585,
          0.1082439124584198,
          0.10833954811096191,
          0.10848987847566605,
          0.10844697803258896,
          0.10843117535114288,
          0.10843579471111298,
          0.10841264575719833,
          0.10841574519872665,
          0.10840417444705963,
          0.1083904504776001,
          0.10839370638132095,
          0.1083749532699585,
          0.10839147120714188,
          0.10839097946882248,
          0.1083877682685852,
          0.10838789492845535,
          0.10838589817285538,
          0.10838740319013596,
          0.10838669538497925,
          0.10838399082422256,
          0.10838410258293152,
          0.10838261991739273,
          0.10838263481855392,
          0.10838258266448975,
          0.1083824634552002,
          0.10838257521390915,
          0.10838233679533005,
          0.10838242620229721,
          0.10838233679533005,
          0.10838214308023453,
          0.10838238894939423,
          0.10838212817907333,
          0.1083819717168808,
          0.1083819791674614,
          0.1083819717168808,
          0.1083819791674614,
          0.1083819791674614,
          0.1083819717168808,
          0.1083819568157196,
          0.1083819717168808,
          0.10838194191455841,
          0.1083819568157196,
          0.1083819568157196,
          0.1083819568157196,
          0.1083819568157196,
          0.1083819568157196,
          0.1083819568157196,
          0.1083819568157196,
          0.1083819568157196,
          0.1083819568157196,
          0.1083819568157196,
          0.1083819568157196,
          0.1083819568157196,
          0.1083819568157196,
          0.1083819568157196,
          0.1083819568157196,
          0.1083819568157196,
          0.1083819568157196,
          0.1083819568157196,
          0.1083819568157196,
          0.1083819568157196,
          0.1083819568157196,
          0.1083819568157196,
          0.1083819568157196,
          0.1083819568157196,
          0.1083819568157196,
          0.1083819568157196
         ],
         "yaxis": "y"
        }
       ],
       "layout": {
        "legend": {
         "title": {
          "text": "variable"
         },
         "tracegroupgap": 0
        },
        "margin": {
         "t": 60
        },
        "template": {
         "data": {
          "bar": [
           {
            "error_x": {
             "color": "#2a3f5f"
            },
            "error_y": {
             "color": "#2a3f5f"
            },
            "marker": {
             "line": {
              "color": "#E5ECF6",
              "width": 0.5
             },
             "pattern": {
              "fillmode": "overlay",
              "size": 10,
              "solidity": 0.2
             }
            },
            "type": "bar"
           }
          ],
          "barpolar": [
           {
            "marker": {
             "line": {
              "color": "#E5ECF6",
              "width": 0.5
             },
             "pattern": {
              "fillmode": "overlay",
              "size": 10,
              "solidity": 0.2
             }
            },
            "type": "barpolar"
           }
          ],
          "carpet": [
           {
            "aaxis": {
             "endlinecolor": "#2a3f5f",
             "gridcolor": "white",
             "linecolor": "white",
             "minorgridcolor": "white",
             "startlinecolor": "#2a3f5f"
            },
            "baxis": {
             "endlinecolor": "#2a3f5f",
             "gridcolor": "white",
             "linecolor": "white",
             "minorgridcolor": "white",
             "startlinecolor": "#2a3f5f"
            },
            "type": "carpet"
           }
          ],
          "choropleth": [
           {
            "colorbar": {
             "outlinewidth": 0,
             "ticks": ""
            },
            "type": "choropleth"
           }
          ],
          "contour": [
           {
            "colorbar": {
             "outlinewidth": 0,
             "ticks": ""
            },
            "colorscale": [
             [
              0,
              "#0d0887"
             ],
             [
              0.1111111111111111,
              "#46039f"
             ],
             [
              0.2222222222222222,
              "#7201a8"
             ],
             [
              0.3333333333333333,
              "#9c179e"
             ],
             [
              0.4444444444444444,
              "#bd3786"
             ],
             [
              0.5555555555555556,
              "#d8576b"
             ],
             [
              0.6666666666666666,
              "#ed7953"
             ],
             [
              0.7777777777777778,
              "#fb9f3a"
             ],
             [
              0.8888888888888888,
              "#fdca26"
             ],
             [
              1,
              "#f0f921"
             ]
            ],
            "type": "contour"
           }
          ],
          "contourcarpet": [
           {
            "colorbar": {
             "outlinewidth": 0,
             "ticks": ""
            },
            "type": "contourcarpet"
           }
          ],
          "heatmap": [
           {
            "colorbar": {
             "outlinewidth": 0,
             "ticks": ""
            },
            "colorscale": [
             [
              0,
              "#0d0887"
             ],
             [
              0.1111111111111111,
              "#46039f"
             ],
             [
              0.2222222222222222,
              "#7201a8"
             ],
             [
              0.3333333333333333,
              "#9c179e"
             ],
             [
              0.4444444444444444,
              "#bd3786"
             ],
             [
              0.5555555555555556,
              "#d8576b"
             ],
             [
              0.6666666666666666,
              "#ed7953"
             ],
             [
              0.7777777777777778,
              "#fb9f3a"
             ],
             [
              0.8888888888888888,
              "#fdca26"
             ],
             [
              1,
              "#f0f921"
             ]
            ],
            "type": "heatmap"
           }
          ],
          "heatmapgl": [
           {
            "colorbar": {
             "outlinewidth": 0,
             "ticks": ""
            },
            "colorscale": [
             [
              0,
              "#0d0887"
             ],
             [
              0.1111111111111111,
              "#46039f"
             ],
             [
              0.2222222222222222,
              "#7201a8"
             ],
             [
              0.3333333333333333,
              "#9c179e"
             ],
             [
              0.4444444444444444,
              "#bd3786"
             ],
             [
              0.5555555555555556,
              "#d8576b"
             ],
             [
              0.6666666666666666,
              "#ed7953"
             ],
             [
              0.7777777777777778,
              "#fb9f3a"
             ],
             [
              0.8888888888888888,
              "#fdca26"
             ],
             [
              1,
              "#f0f921"
             ]
            ],
            "type": "heatmapgl"
           }
          ],
          "histogram": [
           {
            "marker": {
             "pattern": {
              "fillmode": "overlay",
              "size": 10,
              "solidity": 0.2
             }
            },
            "type": "histogram"
           }
          ],
          "histogram2d": [
           {
            "colorbar": {
             "outlinewidth": 0,
             "ticks": ""
            },
            "colorscale": [
             [
              0,
              "#0d0887"
             ],
             [
              0.1111111111111111,
              "#46039f"
             ],
             [
              0.2222222222222222,
              "#7201a8"
             ],
             [
              0.3333333333333333,
              "#9c179e"
             ],
             [
              0.4444444444444444,
              "#bd3786"
             ],
             [
              0.5555555555555556,
              "#d8576b"
             ],
             [
              0.6666666666666666,
              "#ed7953"
             ],
             [
              0.7777777777777778,
              "#fb9f3a"
             ],
             [
              0.8888888888888888,
              "#fdca26"
             ],
             [
              1,
              "#f0f921"
             ]
            ],
            "type": "histogram2d"
           }
          ],
          "histogram2dcontour": [
           {
            "colorbar": {
             "outlinewidth": 0,
             "ticks": ""
            },
            "colorscale": [
             [
              0,
              "#0d0887"
             ],
             [
              0.1111111111111111,
              "#46039f"
             ],
             [
              0.2222222222222222,
              "#7201a8"
             ],
             [
              0.3333333333333333,
              "#9c179e"
             ],
             [
              0.4444444444444444,
              "#bd3786"
             ],
             [
              0.5555555555555556,
              "#d8576b"
             ],
             [
              0.6666666666666666,
              "#ed7953"
             ],
             [
              0.7777777777777778,
              "#fb9f3a"
             ],
             [
              0.8888888888888888,
              "#fdca26"
             ],
             [
              1,
              "#f0f921"
             ]
            ],
            "type": "histogram2dcontour"
           }
          ],
          "mesh3d": [
           {
            "colorbar": {
             "outlinewidth": 0,
             "ticks": ""
            },
            "type": "mesh3d"
           }
          ],
          "parcoords": [
           {
            "line": {
             "colorbar": {
              "outlinewidth": 0,
              "ticks": ""
             }
            },
            "type": "parcoords"
           }
          ],
          "pie": [
           {
            "automargin": true,
            "type": "pie"
           }
          ],
          "scatter": [
           {
            "fillpattern": {
             "fillmode": "overlay",
             "size": 10,
             "solidity": 0.2
            },
            "type": "scatter"
           }
          ],
          "scatter3d": [
           {
            "line": {
             "colorbar": {
              "outlinewidth": 0,
              "ticks": ""
             }
            },
            "marker": {
             "colorbar": {
              "outlinewidth": 0,
              "ticks": ""
             }
            },
            "type": "scatter3d"
           }
          ],
          "scattercarpet": [
           {
            "marker": {
             "colorbar": {
              "outlinewidth": 0,
              "ticks": ""
             }
            },
            "type": "scattercarpet"
           }
          ],
          "scattergeo": [
           {
            "marker": {
             "colorbar": {
              "outlinewidth": 0,
              "ticks": ""
             }
            },
            "type": "scattergeo"
           }
          ],
          "scattergl": [
           {
            "marker": {
             "colorbar": {
              "outlinewidth": 0,
              "ticks": ""
             }
            },
            "type": "scattergl"
           }
          ],
          "scattermapbox": [
           {
            "marker": {
             "colorbar": {
              "outlinewidth": 0,
              "ticks": ""
             }
            },
            "type": "scattermapbox"
           }
          ],
          "scatterpolar": [
           {
            "marker": {
             "colorbar": {
              "outlinewidth": 0,
              "ticks": ""
             }
            },
            "type": "scatterpolar"
           }
          ],
          "scatterpolargl": [
           {
            "marker": {
             "colorbar": {
              "outlinewidth": 0,
              "ticks": ""
             }
            },
            "type": "scatterpolargl"
           }
          ],
          "scatterternary": [
           {
            "marker": {
             "colorbar": {
              "outlinewidth": 0,
              "ticks": ""
             }
            },
            "type": "scatterternary"
           }
          ],
          "surface": [
           {
            "colorbar": {
             "outlinewidth": 0,
             "ticks": ""
            },
            "colorscale": [
             [
              0,
              "#0d0887"
             ],
             [
              0.1111111111111111,
              "#46039f"
             ],
             [
              0.2222222222222222,
              "#7201a8"
             ],
             [
              0.3333333333333333,
              "#9c179e"
             ],
             [
              0.4444444444444444,
              "#bd3786"
             ],
             [
              0.5555555555555556,
              "#d8576b"
             ],
             [
              0.6666666666666666,
              "#ed7953"
             ],
             [
              0.7777777777777778,
              "#fb9f3a"
             ],
             [
              0.8888888888888888,
              "#fdca26"
             ],
             [
              1,
              "#f0f921"
             ]
            ],
            "type": "surface"
           }
          ],
          "table": [
           {
            "cells": {
             "fill": {
              "color": "#EBF0F8"
             },
             "line": {
              "color": "white"
             }
            },
            "header": {
             "fill": {
              "color": "#C8D4E3"
             },
             "line": {
              "color": "white"
             }
            },
            "type": "table"
           }
          ]
         },
         "layout": {
          "annotationdefaults": {
           "arrowcolor": "#2a3f5f",
           "arrowhead": 0,
           "arrowwidth": 1
          },
          "autotypenumbers": "strict",
          "coloraxis": {
           "colorbar": {
            "outlinewidth": 0,
            "ticks": ""
           }
          },
          "colorscale": {
           "diverging": [
            [
             0,
             "#8e0152"
            ],
            [
             0.1,
             "#c51b7d"
            ],
            [
             0.2,
             "#de77ae"
            ],
            [
             0.3,
             "#f1b6da"
            ],
            [
             0.4,
             "#fde0ef"
            ],
            [
             0.5,
             "#f7f7f7"
            ],
            [
             0.6,
             "#e6f5d0"
            ],
            [
             0.7,
             "#b8e186"
            ],
            [
             0.8,
             "#7fbc41"
            ],
            [
             0.9,
             "#4d9221"
            ],
            [
             1,
             "#276419"
            ]
           ],
           "sequential": [
            [
             0,
             "#0d0887"
            ],
            [
             0.1111111111111111,
             "#46039f"
            ],
            [
             0.2222222222222222,
             "#7201a8"
            ],
            [
             0.3333333333333333,
             "#9c179e"
            ],
            [
             0.4444444444444444,
             "#bd3786"
            ],
            [
             0.5555555555555556,
             "#d8576b"
            ],
            [
             0.6666666666666666,
             "#ed7953"
            ],
            [
             0.7777777777777778,
             "#fb9f3a"
            ],
            [
             0.8888888888888888,
             "#fdca26"
            ],
            [
             1,
             "#f0f921"
            ]
           ],
           "sequentialminus": [
            [
             0,
             "#0d0887"
            ],
            [
             0.1111111111111111,
             "#46039f"
            ],
            [
             0.2222222222222222,
             "#7201a8"
            ],
            [
             0.3333333333333333,
             "#9c179e"
            ],
            [
             0.4444444444444444,
             "#bd3786"
            ],
            [
             0.5555555555555556,
             "#d8576b"
            ],
            [
             0.6666666666666666,
             "#ed7953"
            ],
            [
             0.7777777777777778,
             "#fb9f3a"
            ],
            [
             0.8888888888888888,
             "#fdca26"
            ],
            [
             1,
             "#f0f921"
            ]
           ]
          },
          "colorway": [
           "#636efa",
           "#EF553B",
           "#00cc96",
           "#ab63fa",
           "#FFA15A",
           "#19d3f3",
           "#FF6692",
           "#B6E880",
           "#FF97FF",
           "#FECB52"
          ],
          "font": {
           "color": "#2a3f5f"
          },
          "geo": {
           "bgcolor": "white",
           "lakecolor": "white",
           "landcolor": "#E5ECF6",
           "showlakes": true,
           "showland": true,
           "subunitcolor": "white"
          },
          "hoverlabel": {
           "align": "left"
          },
          "hovermode": "closest",
          "mapbox": {
           "style": "light"
          },
          "paper_bgcolor": "white",
          "plot_bgcolor": "#E5ECF6",
          "polar": {
           "angularaxis": {
            "gridcolor": "white",
            "linecolor": "white",
            "ticks": ""
           },
           "bgcolor": "#E5ECF6",
           "radialaxis": {
            "gridcolor": "white",
            "linecolor": "white",
            "ticks": ""
           }
          },
          "scene": {
           "xaxis": {
            "backgroundcolor": "#E5ECF6",
            "gridcolor": "white",
            "gridwidth": 2,
            "linecolor": "white",
            "showbackground": true,
            "ticks": "",
            "zerolinecolor": "white"
           },
           "yaxis": {
            "backgroundcolor": "#E5ECF6",
            "gridcolor": "white",
            "gridwidth": 2,
            "linecolor": "white",
            "showbackground": true,
            "ticks": "",
            "zerolinecolor": "white"
           },
           "zaxis": {
            "backgroundcolor": "#E5ECF6",
            "gridcolor": "white",
            "gridwidth": 2,
            "linecolor": "white",
            "showbackground": true,
            "ticks": "",
            "zerolinecolor": "white"
           }
          },
          "shapedefaults": {
           "line": {
            "color": "#2a3f5f"
           }
          },
          "ternary": {
           "aaxis": {
            "gridcolor": "white",
            "linecolor": "white",
            "ticks": ""
           },
           "baxis": {
            "gridcolor": "white",
            "linecolor": "white",
            "ticks": ""
           },
           "bgcolor": "#E5ECF6",
           "caxis": {
            "gridcolor": "white",
            "linecolor": "white",
            "ticks": ""
           }
          },
          "title": {
           "x": 0.05
          },
          "xaxis": {
           "automargin": true,
           "gridcolor": "white",
           "linecolor": "white",
           "ticks": "",
           "title": {
            "standoff": 15
           },
           "zerolinecolor": "white",
           "zerolinewidth": 2
          },
          "yaxis": {
           "automargin": true,
           "gridcolor": "white",
           "linecolor": "white",
           "ticks": "",
           "title": {
            "standoff": 15
           },
           "zerolinecolor": "white",
           "zerolinewidth": 2
          }
         }
        },
        "xaxis": {
         "anchor": "y",
         "domain": [
          0,
          1
         ],
         "title": {
          "text": "index"
         }
        },
        "yaxis": {
         "anchor": "x",
         "domain": [
          0,
          1
         ],
         "title": {
          "text": "value"
         }
        }
       }
      },
      "text/html": [
       "<div>                            <div id=\"bb748ecf-fa90-410a-b960-86fd2be7ea3c\" class=\"plotly-graph-div\" style=\"height:525px; width:100%;\"></div>            <script type=\"text/javascript\">                require([\"plotly\"], function(Plotly) {                    window.PLOTLYENV=window.PLOTLYENV || {};                                    if (document.getElementById(\"bb748ecf-fa90-410a-b960-86fd2be7ea3c\")) {                    Plotly.newPlot(                        \"bb748ecf-fa90-410a-b960-86fd2be7ea3c\",                        [{\"hovertemplate\":\"variable=loss<br>index=%{x}<br>value=%{y}<extra></extra>\",\"legendgroup\":\"loss\",\"line\":{\"color\":\"#636efa\",\"dash\":\"solid\"},\"marker\":{\"symbol\":\"circle\"},\"mode\":\"lines\",\"name\":\"loss\",\"orientation\":\"v\",\"showlegend\":true,\"x\":[0,1,2,3,4,5,6,7,8,9,10,11,12,13,14,15,16,17,18,19,20,21,22,23,24,25,26,27,28,29,30,31,32,33,34,35,36,37,38,39,40,41,42,43,44,45,46,47,48,49,50,51,52,53,54,55,56,57,58,59,60,61,62,63,64,65,66,67,68,69,70,71,72,73,74,75,76,77,78,79,80,81,82,83,84,85,86,87,88,89,90,91,92,93,94,95,96,97,98,99],\"xaxis\":\"x\",\"y\":[0.1926029920578003,0.12998473644256592,0.12174862623214722,0.11761151254177094,0.1172032281756401,0.1157180443406105,0.11440528929233551,0.11445239186286926,0.11271567642688751,0.11148252338171005,0.11020095646381378,0.11017581075429916,0.10984279960393906,0.11009237170219421,0.11058630049228668,0.10914971679449081,0.10786879807710648,0.10809344798326492,0.1083604097366333,0.10813956707715988,0.10677581280469894,0.10744621604681015,0.10746004432439804,0.10729008913040161,0.10774341970682144,0.1064896434545517,0.10519994795322418,0.10410532355308533,0.10403922945261002,0.1039697602391243,0.10390885174274445,0.10389839857816696,0.10388994216918945,0.10391224920749664,0.10387289524078369,0.1038079485297203,0.10351970791816711,0.10351383686065674,0.1035141721367836,0.10351401567459106,0.10349935293197632,0.10348820686340332,0.10348936170339584,0.10347951203584671,0.1034921407699585,0.10349810123443604,0.1034441590309143,0.10344435274600983,0.10344436764717102,0.10344397276639938,0.1034451574087143,0.10344403982162476,0.10344436764717102,0.10344287008047104,0.10344263911247253,0.10344254225492477,0.1034386157989502,0.1034386157989502,0.10343868285417557,0.10343847423791885,0.10343849658966064,0.10343858599662781,0.10343849658966064,0.10343851149082184,0.10343854874372482,0.10343845933675766,0.10343804210424423,0.10343801230192184,0.10343804955482483,0.10343804210424423,0.10343803465366364,0.10343802720308304,0.10343801230192184,0.10343803465366364,0.10343803465366364,0.10343804210424423,0.10343801975250244,0.10343801975250244,0.10343801230192184,0.10343799740076065,0.10343801975250244,0.10343801975250244,0.10343801230192184,0.10343802720308304,0.10343798249959946,0.10343801230192184,0.10343801975250244,0.10343801230192184,0.10343801230192184,0.10343803465366364,0.10343801975250244,0.10343801230192184,0.10343802720308304,0.10343801230192184,0.10343802720308304,0.10343800485134125,0.10343802720308304,0.10343801975250244,0.10343800485134125,0.10343800485134125],\"yaxis\":\"y\",\"type\":\"scatter\"},{\"hovertemplate\":\"variable=val_loss<br>index=%{x}<br>value=%{y}<extra></extra>\",\"legendgroup\":\"val_loss\",\"line\":{\"color\":\"#EF553B\",\"dash\":\"solid\"},\"marker\":{\"symbol\":\"circle\"},\"mode\":\"lines\",\"name\":\"val_loss\",\"orientation\":\"v\",\"showlegend\":true,\"x\":[0,1,2,3,4,5,6,7,8,9,10,11,12,13,14,15,16,17,18,19,20,21,22,23,24,25,26,27,28,29,30,31,32,33,34,35,36,37,38,39,40,41,42,43,44,45,46,47,48,49,50,51,52,53,54,55,56,57,58,59,60,61,62,63,64,65,66,67,68,69,70,71,72,73,74,75,76,77,78,79,80,81,82,83,84,85,86,87,88,89,90,91,92,93,94,95,96,97,98,99],\"xaxis\":\"x\",\"y\":[0.13225054740905762,0.12262701243162155,0.1194654181599617,0.11726468056440353,0.11583719402551651,0.11287296563386917,0.11873852461576462,0.1118214949965477,0.11188039183616638,0.11012934893369675,0.10888664424419403,0.11153280735015869,0.11117363721132278,0.10799268633127213,0.11162877082824707,0.10785357654094696,0.109865702688694,0.11197160929441452,0.10868819057941437,0.1083715632557869,0.10980335623025894,0.10893311351537704,0.10957282036542892,0.10933751612901688,0.10919685661792755,0.11020656675100327,0.10819017142057419,0.10819456726312637,0.10838483273983002,0.10833676159381866,0.10831647366285324,0.10833144932985306,0.10832274705171585,0.1082439124584198,0.10833954811096191,0.10848987847566605,0.10844697803258896,0.10843117535114288,0.10843579471111298,0.10841264575719833,0.10841574519872665,0.10840417444705963,0.1083904504776001,0.10839370638132095,0.1083749532699585,0.10839147120714188,0.10839097946882248,0.1083877682685852,0.10838789492845535,0.10838589817285538,0.10838740319013596,0.10838669538497925,0.10838399082422256,0.10838410258293152,0.10838261991739273,0.10838263481855392,0.10838258266448975,0.1083824634552002,0.10838257521390915,0.10838233679533005,0.10838242620229721,0.10838233679533005,0.10838214308023453,0.10838238894939423,0.10838212817907333,0.1083819717168808,0.1083819791674614,0.1083819717168808,0.1083819791674614,0.1083819791674614,0.1083819717168808,0.1083819568157196,0.1083819717168808,0.10838194191455841,0.1083819568157196,0.1083819568157196,0.1083819568157196,0.1083819568157196,0.1083819568157196,0.1083819568157196,0.1083819568157196,0.1083819568157196,0.1083819568157196,0.1083819568157196,0.1083819568157196,0.1083819568157196,0.1083819568157196,0.1083819568157196,0.1083819568157196,0.1083819568157196,0.1083819568157196,0.1083819568157196,0.1083819568157196,0.1083819568157196,0.1083819568157196,0.1083819568157196,0.1083819568157196,0.1083819568157196,0.1083819568157196,0.1083819568157196],\"yaxis\":\"y\",\"type\":\"scatter\"}],                        {\"template\":{\"data\":{\"histogram2dcontour\":[{\"type\":\"histogram2dcontour\",\"colorbar\":{\"outlinewidth\":0,\"ticks\":\"\"},\"colorscale\":[[0.0,\"#0d0887\"],[0.1111111111111111,\"#46039f\"],[0.2222222222222222,\"#7201a8\"],[0.3333333333333333,\"#9c179e\"],[0.4444444444444444,\"#bd3786\"],[0.5555555555555556,\"#d8576b\"],[0.6666666666666666,\"#ed7953\"],[0.7777777777777778,\"#fb9f3a\"],[0.8888888888888888,\"#fdca26\"],[1.0,\"#f0f921\"]]}],\"choropleth\":[{\"type\":\"choropleth\",\"colorbar\":{\"outlinewidth\":0,\"ticks\":\"\"}}],\"histogram2d\":[{\"type\":\"histogram2d\",\"colorbar\":{\"outlinewidth\":0,\"ticks\":\"\"},\"colorscale\":[[0.0,\"#0d0887\"],[0.1111111111111111,\"#46039f\"],[0.2222222222222222,\"#7201a8\"],[0.3333333333333333,\"#9c179e\"],[0.4444444444444444,\"#bd3786\"],[0.5555555555555556,\"#d8576b\"],[0.6666666666666666,\"#ed7953\"],[0.7777777777777778,\"#fb9f3a\"],[0.8888888888888888,\"#fdca26\"],[1.0,\"#f0f921\"]]}],\"heatmap\":[{\"type\":\"heatmap\",\"colorbar\":{\"outlinewidth\":0,\"ticks\":\"\"},\"colorscale\":[[0.0,\"#0d0887\"],[0.1111111111111111,\"#46039f\"],[0.2222222222222222,\"#7201a8\"],[0.3333333333333333,\"#9c179e\"],[0.4444444444444444,\"#bd3786\"],[0.5555555555555556,\"#d8576b\"],[0.6666666666666666,\"#ed7953\"],[0.7777777777777778,\"#fb9f3a\"],[0.8888888888888888,\"#fdca26\"],[1.0,\"#f0f921\"]]}],\"heatmapgl\":[{\"type\":\"heatmapgl\",\"colorbar\":{\"outlinewidth\":0,\"ticks\":\"\"},\"colorscale\":[[0.0,\"#0d0887\"],[0.1111111111111111,\"#46039f\"],[0.2222222222222222,\"#7201a8\"],[0.3333333333333333,\"#9c179e\"],[0.4444444444444444,\"#bd3786\"],[0.5555555555555556,\"#d8576b\"],[0.6666666666666666,\"#ed7953\"],[0.7777777777777778,\"#fb9f3a\"],[0.8888888888888888,\"#fdca26\"],[1.0,\"#f0f921\"]]}],\"contourcarpet\":[{\"type\":\"contourcarpet\",\"colorbar\":{\"outlinewidth\":0,\"ticks\":\"\"}}],\"contour\":[{\"type\":\"contour\",\"colorbar\":{\"outlinewidth\":0,\"ticks\":\"\"},\"colorscale\":[[0.0,\"#0d0887\"],[0.1111111111111111,\"#46039f\"],[0.2222222222222222,\"#7201a8\"],[0.3333333333333333,\"#9c179e\"],[0.4444444444444444,\"#bd3786\"],[0.5555555555555556,\"#d8576b\"],[0.6666666666666666,\"#ed7953\"],[0.7777777777777778,\"#fb9f3a\"],[0.8888888888888888,\"#fdca26\"],[1.0,\"#f0f921\"]]}],\"surface\":[{\"type\":\"surface\",\"colorbar\":{\"outlinewidth\":0,\"ticks\":\"\"},\"colorscale\":[[0.0,\"#0d0887\"],[0.1111111111111111,\"#46039f\"],[0.2222222222222222,\"#7201a8\"],[0.3333333333333333,\"#9c179e\"],[0.4444444444444444,\"#bd3786\"],[0.5555555555555556,\"#d8576b\"],[0.6666666666666666,\"#ed7953\"],[0.7777777777777778,\"#fb9f3a\"],[0.8888888888888888,\"#fdca26\"],[1.0,\"#f0f921\"]]}],\"mesh3d\":[{\"type\":\"mesh3d\",\"colorbar\":{\"outlinewidth\":0,\"ticks\":\"\"}}],\"scatter\":[{\"fillpattern\":{\"fillmode\":\"overlay\",\"size\":10,\"solidity\":0.2},\"type\":\"scatter\"}],\"parcoords\":[{\"type\":\"parcoords\",\"line\":{\"colorbar\":{\"outlinewidth\":0,\"ticks\":\"\"}}}],\"scatterpolargl\":[{\"type\":\"scatterpolargl\",\"marker\":{\"colorbar\":{\"outlinewidth\":0,\"ticks\":\"\"}}}],\"bar\":[{\"error_x\":{\"color\":\"#2a3f5f\"},\"error_y\":{\"color\":\"#2a3f5f\"},\"marker\":{\"line\":{\"color\":\"#E5ECF6\",\"width\":0.5},\"pattern\":{\"fillmode\":\"overlay\",\"size\":10,\"solidity\":0.2}},\"type\":\"bar\"}],\"scattergeo\":[{\"type\":\"scattergeo\",\"marker\":{\"colorbar\":{\"outlinewidth\":0,\"ticks\":\"\"}}}],\"scatterpolar\":[{\"type\":\"scatterpolar\",\"marker\":{\"colorbar\":{\"outlinewidth\":0,\"ticks\":\"\"}}}],\"histogram\":[{\"marker\":{\"pattern\":{\"fillmode\":\"overlay\",\"size\":10,\"solidity\":0.2}},\"type\":\"histogram\"}],\"scattergl\":[{\"type\":\"scattergl\",\"marker\":{\"colorbar\":{\"outlinewidth\":0,\"ticks\":\"\"}}}],\"scatter3d\":[{\"type\":\"scatter3d\",\"line\":{\"colorbar\":{\"outlinewidth\":0,\"ticks\":\"\"}},\"marker\":{\"colorbar\":{\"outlinewidth\":0,\"ticks\":\"\"}}}],\"scattermapbox\":[{\"type\":\"scattermapbox\",\"marker\":{\"colorbar\":{\"outlinewidth\":0,\"ticks\":\"\"}}}],\"scatterternary\":[{\"type\":\"scatterternary\",\"marker\":{\"colorbar\":{\"outlinewidth\":0,\"ticks\":\"\"}}}],\"scattercarpet\":[{\"type\":\"scattercarpet\",\"marker\":{\"colorbar\":{\"outlinewidth\":0,\"ticks\":\"\"}}}],\"carpet\":[{\"aaxis\":{\"endlinecolor\":\"#2a3f5f\",\"gridcolor\":\"white\",\"linecolor\":\"white\",\"minorgridcolor\":\"white\",\"startlinecolor\":\"#2a3f5f\"},\"baxis\":{\"endlinecolor\":\"#2a3f5f\",\"gridcolor\":\"white\",\"linecolor\":\"white\",\"minorgridcolor\":\"white\",\"startlinecolor\":\"#2a3f5f\"},\"type\":\"carpet\"}],\"table\":[{\"cells\":{\"fill\":{\"color\":\"#EBF0F8\"},\"line\":{\"color\":\"white\"}},\"header\":{\"fill\":{\"color\":\"#C8D4E3\"},\"line\":{\"color\":\"white\"}},\"type\":\"table\"}],\"barpolar\":[{\"marker\":{\"line\":{\"color\":\"#E5ECF6\",\"width\":0.5},\"pattern\":{\"fillmode\":\"overlay\",\"size\":10,\"solidity\":0.2}},\"type\":\"barpolar\"}],\"pie\":[{\"automargin\":true,\"type\":\"pie\"}]},\"layout\":{\"autotypenumbers\":\"strict\",\"colorway\":[\"#636efa\",\"#EF553B\",\"#00cc96\",\"#ab63fa\",\"#FFA15A\",\"#19d3f3\",\"#FF6692\",\"#B6E880\",\"#FF97FF\",\"#FECB52\"],\"font\":{\"color\":\"#2a3f5f\"},\"hovermode\":\"closest\",\"hoverlabel\":{\"align\":\"left\"},\"paper_bgcolor\":\"white\",\"plot_bgcolor\":\"#E5ECF6\",\"polar\":{\"bgcolor\":\"#E5ECF6\",\"angularaxis\":{\"gridcolor\":\"white\",\"linecolor\":\"white\",\"ticks\":\"\"},\"radialaxis\":{\"gridcolor\":\"white\",\"linecolor\":\"white\",\"ticks\":\"\"}},\"ternary\":{\"bgcolor\":\"#E5ECF6\",\"aaxis\":{\"gridcolor\":\"white\",\"linecolor\":\"white\",\"ticks\":\"\"},\"baxis\":{\"gridcolor\":\"white\",\"linecolor\":\"white\",\"ticks\":\"\"},\"caxis\":{\"gridcolor\":\"white\",\"linecolor\":\"white\",\"ticks\":\"\"}},\"coloraxis\":{\"colorbar\":{\"outlinewidth\":0,\"ticks\":\"\"}},\"colorscale\":{\"sequential\":[[0.0,\"#0d0887\"],[0.1111111111111111,\"#46039f\"],[0.2222222222222222,\"#7201a8\"],[0.3333333333333333,\"#9c179e\"],[0.4444444444444444,\"#bd3786\"],[0.5555555555555556,\"#d8576b\"],[0.6666666666666666,\"#ed7953\"],[0.7777777777777778,\"#fb9f3a\"],[0.8888888888888888,\"#fdca26\"],[1.0,\"#f0f921\"]],\"sequentialminus\":[[0.0,\"#0d0887\"],[0.1111111111111111,\"#46039f\"],[0.2222222222222222,\"#7201a8\"],[0.3333333333333333,\"#9c179e\"],[0.4444444444444444,\"#bd3786\"],[0.5555555555555556,\"#d8576b\"],[0.6666666666666666,\"#ed7953\"],[0.7777777777777778,\"#fb9f3a\"],[0.8888888888888888,\"#fdca26\"],[1.0,\"#f0f921\"]],\"diverging\":[[0,\"#8e0152\"],[0.1,\"#c51b7d\"],[0.2,\"#de77ae\"],[0.3,\"#f1b6da\"],[0.4,\"#fde0ef\"],[0.5,\"#f7f7f7\"],[0.6,\"#e6f5d0\"],[0.7,\"#b8e186\"],[0.8,\"#7fbc41\"],[0.9,\"#4d9221\"],[1,\"#276419\"]]},\"xaxis\":{\"gridcolor\":\"white\",\"linecolor\":\"white\",\"ticks\":\"\",\"title\":{\"standoff\":15},\"zerolinecolor\":\"white\",\"automargin\":true,\"zerolinewidth\":2},\"yaxis\":{\"gridcolor\":\"white\",\"linecolor\":\"white\",\"ticks\":\"\",\"title\":{\"standoff\":15},\"zerolinecolor\":\"white\",\"automargin\":true,\"zerolinewidth\":2},\"scene\":{\"xaxis\":{\"backgroundcolor\":\"#E5ECF6\",\"gridcolor\":\"white\",\"linecolor\":\"white\",\"showbackground\":true,\"ticks\":\"\",\"zerolinecolor\":\"white\",\"gridwidth\":2},\"yaxis\":{\"backgroundcolor\":\"#E5ECF6\",\"gridcolor\":\"white\",\"linecolor\":\"white\",\"showbackground\":true,\"ticks\":\"\",\"zerolinecolor\":\"white\",\"gridwidth\":2},\"zaxis\":{\"backgroundcolor\":\"#E5ECF6\",\"gridcolor\":\"white\",\"linecolor\":\"white\",\"showbackground\":true,\"ticks\":\"\",\"zerolinecolor\":\"white\",\"gridwidth\":2}},\"shapedefaults\":{\"line\":{\"color\":\"#2a3f5f\"}},\"annotationdefaults\":{\"arrowcolor\":\"#2a3f5f\",\"arrowhead\":0,\"arrowwidth\":1},\"geo\":{\"bgcolor\":\"white\",\"landcolor\":\"#E5ECF6\",\"subunitcolor\":\"white\",\"showland\":true,\"showlakes\":true,\"lakecolor\":\"white\"},\"title\":{\"x\":0.05},\"mapbox\":{\"style\":\"light\"}}},\"xaxis\":{\"anchor\":\"y\",\"domain\":[0.0,1.0],\"title\":{\"text\":\"index\"}},\"yaxis\":{\"anchor\":\"x\",\"domain\":[0.0,1.0],\"title\":{\"text\":\"value\"}},\"legend\":{\"title\":{\"text\":\"variable\"},\"tracegroupgap\":0},\"margin\":{\"t\":60}},                        {\"responsive\": true}                    ).then(function(){\n",
       "                            \n",
       "var gd = document.getElementById('bb748ecf-fa90-410a-b960-86fd2be7ea3c');\n",
       "var x = new MutationObserver(function (mutations, observer) {{\n",
       "        var display = window.getComputedStyle(gd).display;\n",
       "        if (!display || display === 'none') {{\n",
       "            console.log([gd, 'removed!']);\n",
       "            Plotly.purge(gd);\n",
       "            observer.disconnect();\n",
       "        }}\n",
       "}});\n",
       "\n",
       "// Listen for the removal of the full notebook cells\n",
       "var notebookContainer = gd.closest('#notebook-container');\n",
       "if (notebookContainer) {{\n",
       "    x.observe(notebookContainer, {childList: true});\n",
       "}}\n",
       "\n",
       "// Listen for the clearing of the current output cell\n",
       "var outputEl = gd.closest('.output');\n",
       "if (outputEl) {{\n",
       "    x.observe(outputEl, {childList: true});\n",
       "}}\n",
       "\n",
       "                        })                };                });            </script>        </div>"
      ]
     },
     "metadata": {},
     "output_type": "display_data"
    }
   ],
   "source": [
    "fig=px.line(\n",
    "history.history,\n",
    "y=['loss','val_loss'],\n",
    "labels={'x':'epoch','y':'loss'}\n",
    ")\n",
    "\n",
    "fig.show()"
   ]
  },
  {
   "cell_type": "code",
   "execution_count": 42,
   "id": "a1fd3ffe",
   "metadata": {
    "scrolled": true
   },
   "outputs": [
    {
     "name": "stdout",
     "output_type": "stream",
     "text": [
      "35/35 [==============================] - 0s 1ms/step - loss: 0.1063\n"
     ]
    },
    {
     "data": {
      "text/plain": [
       "0.10634084790945053"
      ]
     },
     "execution_count": 42,
     "metadata": {},
     "output_type": "execute_result"
    }
   ],
   "source": [
    "model.evaluate(x_test,y_test) "
   ]
  },
  {
   "cell_type": "code",
   "execution_count": 27,
   "id": "c4e246dd",
   "metadata": {},
   "outputs": [
    {
     "name": "stdout",
     "output_type": "stream",
     "text": [
      "35/35 [==============================] - 0s 1ms/step\n"
     ]
    }
   ],
   "source": [
    "y_pred=np.squeeze(model.predict(x_test))"
   ]
  },
  {
   "cell_type": "code",
   "execution_count": 30,
   "id": "071ce329",
   "metadata": {},
   "outputs": [
    {
     "data": {
      "text/plain": [
       "array([0.6898515 , 0.5530601 , 0.536366  , ..., 0.5911518 , 0.5851085 ,\n",
       "       0.68728083], dtype=float32)"
      ]
     },
     "execution_count": 30,
     "metadata": {},
     "output_type": "execute_result"
    }
   ],
   "source": [
    "y_pred"
   ]
  },
  {
   "cell_type": "code",
   "execution_count": 31,
   "id": "9f24bb56",
   "metadata": {},
   "outputs": [
    {
     "data": {
      "text/plain": [
       "1201    0.72\n",
       "423     0.71\n",
       "2852    0.89\n",
       "1879    0.11\n",
       "1708    0.06\n",
       "        ... \n",
       "206     0.24\n",
       "1513    0.98\n",
       "500     0.52\n",
       "3325    0.16\n",
       "1616    0.97\n",
       "Name: rating, Length: 1103, dtype: float64"
      ]
     },
     "execution_count": 31,
     "metadata": {},
     "output_type": "execute_result"
    }
   ],
   "source": [
    "y_test"
   ]
  },
  {
   "cell_type": "code",
   "execution_count": 43,
   "id": "1659e756",
   "metadata": {},
   "outputs": [
    {
     "name": "stdout",
     "output_type": "stream",
     "text": [
      "R^2 Score :  0.030209899\n"
     ]
    }
   ],
   "source": [
    "rsquared=RSquare()\n",
    "rsquared.update_state(y_test,y_pred)\n",
    "print(\"R^2 Score : \",rsquared.result().numpy())"
   ]
  },
  {
   "cell_type": "code",
   "execution_count": null,
   "id": "b9a33fe8",
   "metadata": {},
   "outputs": [],
   "source": []
  }
 ],
 "metadata": {
  "kernelspec": {
   "display_name": "Python 3 (ipykernel)",
   "language": "python",
   "name": "python3"
  },
  "language_info": {
   "codemirror_mode": {
    "name": "ipython",
    "version": 3
   },
   "file_extension": ".py",
   "mimetype": "text/x-python",
   "name": "python",
   "nbconvert_exporter": "python",
   "pygments_lexer": "ipython3",
   "version": "3.10.6"
  }
 },
 "nbformat": 4,
 "nbformat_minor": 5
}
